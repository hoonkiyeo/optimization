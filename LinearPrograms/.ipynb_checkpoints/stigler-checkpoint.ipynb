{
 "cells": [
  {
   "cell_type": "code",
   "execution_count": 3,
   "metadata": {},
   "outputs": [
    {
     "name": "stderr",
     "output_type": "stream",
     "text": [
      "\u001b[32m\u001b[1m   Resolving\u001b[22m\u001b[39m package versions..."
     ]
    },
    {
     "name": "stderr",
     "output_type": "stream",
     "text": [
      "\n",
      "\u001b[32m\u001b[1m  No Changes\u001b[22m\u001b[39m"
     ]
    },
    {
     "name": "stderr",
     "output_type": "stream",
     "text": [
      " to `C:\\Users\\noahx\\.julia\\environments\\v1.6\\Project.toml`\n",
      "\u001b[32m\u001b[1m  No Changes\u001b[22m\u001b[39m to `C:\\Users\\noahx\\.julia\\environments\\v1.6\\Manifest.toml`\n"
     ]
    },
    {
     "name": "stderr",
     "output_type": "stream",
     "text": [
      "\u001b[32m\u001b[1m   Resolving\u001b[22m\u001b[39m package versions...\n"
     ]
    },
    {
     "name": "stderr",
     "output_type": "stream",
     "text": [
      "\u001b[32m\u001b[1m  No Changes\u001b[22m\u001b[39m"
     ]
    },
    {
     "name": "stderr",
     "output_type": "stream",
     "text": [
      " to `C:\\Users\\noahx\\.julia\\environments\\v1.6\\Project.toml`\n",
      "\u001b[32m\u001b[1m  No Changes\u001b[22m\u001b[39m to `C:\\Users\\noahx\\.julia\\environments\\v1.6\\Manifest.toml`\n"
     ]
    },
    {
     "data": {
      "text/plain": [
       "9-element Vector{Float64}:\n",
       "  3.0\n",
       " 70.0\n",
       "  0.8\n",
       " 12.0\n",
       "  5.0\n",
       "  1.8\n",
       "  2.7\n",
       " 18.0\n",
       " 75.0"
      ]
     },
     "metadata": {},
     "output_type": "display_data"
    }
   ],
   "source": [
    "# STARTER CODE TO LOAD DATA FOR STIGLER'S DIET PROBLEM\n",
    "\n",
    "# Add packages\n",
    "using Pkg\n",
    "Pkg.add(\"CSV\")\n",
    "Pkg.add(\"DataFrames\")\n",
    "\n",
    "using CSV\n",
    "using DataFrames\n",
    "\n",
    "# import Stigler's data set as a dataframe\n",
    "raw = CSV.read(\"stigler.csv\", DataFrame)\n",
    "\n",
    "(m,n) = size(raw)  # m = number of rows, n = number of columns\n",
    "\n",
    "n_nutrients = 2:n      # indices of columns containing nutrients (skip the first one)\n",
    "n_foods = 2:m          # indices of rows containing food names (skip the two first ones)\n",
    "\n",
    "nutrients = names(raw)[n_nutrients]   # the list of nutrients \n",
    "foods = raw[n_foods,1]                # the list of foods \n",
    "\n",
    "# Put the data about nutrients and foods into an array\n",
    "data = Matrix(raw[n_foods,n_nutrients])\n",
    "\n",
    "# lower[i] is the minimum daily requirement of nutrient i.\n",
    "lower = Vector(raw[1,n_nutrients])\n"
   ]
  }
 ],
 "metadata": {
  "@webio": {
   "lastCommId": null,
   "lastKernelId": null
  },
  "kernelspec": {
   "display_name": "Julia 1.6.0",
   "language": "julia",
   "name": "julia-1.6"
  },
  "language_info": {
   "file_extension": ".jl",
   "mimetype": "application/julia",
   "name": "julia",
   "version": "1.6.0"
  }
 },
 "nbformat": 4,
 "nbformat_minor": 1
}
