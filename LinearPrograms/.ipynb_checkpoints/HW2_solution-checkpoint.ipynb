{
 "cells": [
  {
   "cell_type": "markdown",
   "metadata": {},
   "source": [
    "# CS/ECE/ISyE 524 - Spr 2020 - HW 1 - Solutions"
   ]
  },
  {
   "cell_type": "markdown",
   "metadata": {},
   "source": [
    "---\n",
    "## 1. Warmup\n",
    "Model the following problem in JuMP. \n",
    "\n",
    "$$\\begin{aligned}\n",
    "\\text{maximize}\\qquad& 6x_1 − 2x_2 + 3x_3 \\\\\n",
    "\\text{subject to:}\\qquad& 2x_1 \\le x_2 - x_3 + 2 \\\\\n",
    "& 0 \\le x_j \\le 3, \\ \\ j=\\{1,2,3\\}\n",
    "\\end{aligned}$$"
   ]
  },
  {
   "cell_type": "markdown",
   "metadata": {},
   "source": [
    "### Rubric  \n",
    "**a) Total 0.25 points**  \n",
    "**-0.25 points** for wrong solver, or for missing explanation.\n",
    "\n",
    "**b) Total 0.75 points**  \n",
    "**-0.25 points** for missing variables, constraints or objective  \n",
    "**-0.25 points** for wrong result   \n",
    "**-0.25 points** for not printing termination status  \n",
    "\n",
    "**c) Total 0.25 points**  \n",
    "**-0.25 points** for missing objective or variable values.\n",
    "\n",
    "**d) Total 0.75 points**  \n",
    "**-0.50 points** for not finding an infeasible choice of parameters and implementing it.  \n",
    "**-0.25 points** for not showing infeasibility."
   ]
  },
  {
   "cell_type": "markdown",
   "metadata": {},
   "source": [
    "*a) Given the choice of the solvers Clp, ECOS, and SCS, which one would you choose? Why?*\n",
    "\n",
    "The problem is a linear program. The best choice is probably Clp, because it is a dedicated LP solver, which uses characteristics of LPs to solve the problem more acurately and efficiently. The other two solvers can be  expected to be slower because they are using more general algorithms that are less specialized (and more broadly applicable)."
   ]
  },
  {
   "cell_type": "markdown",
   "metadata": {},
   "source": [
    "*b) Solve the problem using your selected solver. Print the termination status to check whether you have indeed obtained the optimal solution.*\n"
   ]
  },
  {
   "cell_type": "code",
   "execution_count": 40,
   "metadata": {},
   "outputs": [
    {
     "name": "stdout",
     "output_type": "stream",
     "text": [
      "OPTIMAL\n",
      "Coin0506I Presolve 1 (0) rows, 3 (0) columns and 3 (0) elements\n",
      "Clp0006I 0  Obj 0 Dual inf 8.9999998 (2)\n",
      "Clp0006I 1  Obj 9\n",
      "Clp0000I Optimal - objective value 9\n",
      "Clp0032I Optimal objective 9 - 1 iterations time 0.002\n"
     ]
    }
   ],
   "source": [
    "using JuMP, Clp\n",
    "\n",
    "m = Model(with_optimizer(Clp.Optimizer))\n",
    "\n",
    "@variable(m, 0 <= x[1:3] <= 3)\n",
    "@constraint(m, 2x[1] - x[2] + x[3] <= 2 )\n",
    "@objective(m, Max, 6x[1] - 2x[2] + 3x[3] )\n",
    "\n",
    "optimize!(m)\n",
    "status = termination_status(m)\n",
    "println(status)"
   ]
  },
  {
   "cell_type": "markdown",
   "metadata": {},
   "source": [
    "*c) What is the optimal objective value? What is the optimal solution for the variables $x_1$ and $x_2$?*"
   ]
  },
  {
   "cell_type": "code",
   "execution_count": 41,
   "metadata": {},
   "outputs": [
    {
     "name": "stdout",
     "output_type": "stream",
     "text": [
      "The optimal objective value is: objective = 9.0\n",
      "The optimal solution for x1 is 1.0\n",
      "The optimal solution for x2 is 3.0\n",
      "The optimal solution for x2 is 3.0\n"
     ]
    }
   ],
   "source": [
    "println(\"The optimal objective value is: objective = \", JuMP.objective_value(m) )\n",
    "println(\"The optimal solution for x1 is \", JuMP.value(x[1]) )\n",
    "println(\"The optimal solution for x2 is \", JuMP.value(x[2]) )\n",
    "println(\"The optimal solution for x2 is \", JuMP.value(x[3]) )"
   ]
  },
  {
   "cell_type": "markdown",
   "metadata": {},
   "source": [
    "*d) Can you change* one *of the problem parameters to make the problem infeasible? Solve the new problem in JuMP and print the termination status to demonstrate that the problem is infeasible.*\n",
    "\n"
   ]
  },
  {
   "cell_type": "code",
   "execution_count": 42,
   "metadata": {},
   "outputs": [
    {
     "name": "stdout",
     "output_type": "stream",
     "text": [
      "INFEASIBLE\n",
      "Coin0507I Presolve determined that the problem was infeasible with tolerance of 1e-08\n",
      "Clp3003W Analysis indicates model infeasible or unbounded\n",
      "Clp0006I 0  Obj 0 Primal inf 9.9999999 (1) Dual inf 8.9999998 (2)\n",
      "Clp0006I 2  Obj -27 Primal inf 6.9999999 (1)\n",
      "Clp0001I Primal infeasible - objective value -27\n",
      "Clp0032I PrimalInfeasible objective -27 - 2 iterations time 0.002\n"
     ]
    }
   ],
   "source": [
    "m = Model(with_optimizer(Clp.Optimizer))\n",
    "\n",
    "@variable(m, 0 <= x[1:3] <= 3)\n",
    "@constraint(m, 2x[1] - x[2] + x[3] <= -10 )\n",
    "@objective(m, Max, 6x[1] - 2x[2] + 3x[3] )\n",
    "\n",
    "optimize!(m)\n",
    "status = termination_status(m)\n",
    "println(status)\n",
    "# Here I changed the constant in the constraint from 2 into -10"
   ]
  },
  {
   "cell_type": "markdown",
   "metadata": {},
   "source": [
    "## 2. Stigler's diet\n",
    "\n",
    "True story! In 1945, American economist (and future Nobel laureate) George Stigler published a paper investigating the composition of an _optimal_ diet; minimizing total cost while meeting the recommended daily allowance (RDA) of several nutrients. To answer this question, Stigler tabulated a list of 77 foods and their nutrient content for 9 nutrients: calories, protein, calcium, iron, vitamin A, thiamine, riboflavin, niacin, and ascorbic acid. Here is what the first few rows and columns of his table looked like:\n",
    "\n",
    "| ---\t\t\t\t\t| Calories (1000)\t| Protein (g)\t| Calcium (g) \t| Iron (mg) | ... |\n",
    "|-----------------------|-------------------|---------------|---------------|-----------|-----|\n",
    "|Wheat Flour (Enriched) | 44.7\t\t\t\t| 1411\t\t\t| 2\t\t\t\t| 365\t\t| ... |\n",
    "|Macaroni\t\t\t\t| 11.6\t\t\t\t| 418\t\t\t| 0.7\t\t\t| 54\t\t| ... |\n",
    "|Wheat Cereal (Enriched)| 11.8\t\t\t\t| 377\t\t\t| 14.4\t\t\t| 175\t\t| ... |\n",
    "| ...\t\t\t        | ...\t\t        | ... \t\t    | ... \t\t    | ...\t    | ... |\n",
    "\n",
    "\n",
    "To make calculations easier, Stigler normalized his data so each row shows the nutrients contained in \\\\$ 1's worth of the given food item. Back then, \\\\$ 1 could buy you quite a lot!\n",
    "\n",
    "When Stigler posed his diet problem, the simplex method had not yet been invented. In his paper, he wrote: \"...the procedure is experimental because there does not appear to be any direct method of finding the minimum of a linear function subject to linear conditions.\" Nevertheless, through a combination of \"trial and error, mathematical insight, and agility\", he eventually arrived at a solution: a diet costing only \\$39.93 per year. Though he confessed: \"There is no reason to believe that the cheapest combination was found, for only a handful of the [many] possible combinations of commodities were examined.\"\n",
    "\n",
    "### Rubric\n",
    "\n",
    "**a) Total 0.50 points**  \n",
    "**-0.25 points** for missing explanation of decision variables, objective or constraints.   \n",
    "**-0.25 points** for not writing the equations.  \n",
    "\n",
    "**b) Total 0.75 points**  \n",
    "**-0.25 points** for missing variables, constraints or objective    \n",
    "**-0.25 points** for wrong result   \n",
    "\n",
    "**c) Total 0.25 points**  \n",
    "**-0.25 points** for missing explanation  \n",
    "\n",
    "**d) Total 0.50 points**  \n",
    "**-0.50 points** for wrong solution  \n",
    "\n",
    "\n",
    "\n",
    "*a) Formulate the optimization problem:  \n",
    "   ·What are the decision variables in this problem?   \n",
    "   ·What is the objective of this optimization problem?   \n",
    "   ·What are the constraints of the optimization problem?  \n",
    "   Answer both with an explanation in words and with the mathematical model.*  \n"
   ]
  },
  {
   "cell_type": "markdown",
   "metadata": {},
   "source": [
    "The decision variables are as following: For each kind of food, we have a corresponding variable $x_i$, which represents how much we should spend on this food in our diet. The set of foods is given by $\\mathcal{F}$.\n",
    "\n",
    "The objective is  $$min \\sum_{i \\in \\mathcal{F}} c_i x_{i}$$ \n",
    "This objective minimizes the sum of all the money we spend on food, and $c_i$ is the cost of one unit of the food $x_i$. In our problem, the amount of nutrients is normalized to the amount of food we get for one dollar. Therefore, all $c_i=1$ and we can also not have them in the objective function.  \n",
    "\n",
    "The constraints are related to the minimum nutrient requirement for each nutrient $j\\in\\mathcal{N}$, where $\\mathcal{N}$ are the set of nutrients. The amount of each nutrient we get from our diet should be larger than or equal to the minimum requirement.\n",
    "This gives rise to the following constraints \n",
    "$$\\sum_{i \\in \\mathcal{F}} x_{i}data_{i,j} \\geq lb_{j} \\quad \\forall j\\in  $$\n",
    "where $data_{i,j}$ is the amount of nutrient $j$ in food $i$, and $lb_{j}$ is the minimum requirement for  nutrient $j$.\n",
    "\n",
    "The amount of money spent on each food should be positive, which gives the following variable bounds on $x_i$, $$x_i \\geq 0 \\quad \\forall i\\in\\mathcal{F}$$"
   ]
  },
  {
   "cell_type": "markdown",
   "metadata": {},
   "source": [
    "*b) Implement the optimization problem in Julia. To get you started, Stigler’s original data is provided in `stigler.csv`, and the IJulia notebook `stigler.ipynb` imports the data and puts it into a convenient matrix format.*"
   ]
  },
  {
   "cell_type": "code",
   "execution_count": 43,
   "metadata": {},
   "outputs": [
    {
     "data": {
      "text/plain": [
       "10-element Vector{String}:\n",
       " \"Column1\"\n",
       " \"Calories (1000)\"\n",
       " \"Protein (g)\"\n",
       " \"Calcium (g)\"\n",
       " \"Iron (mg)\"\n",
       " \"Vitamin A (1000 IU)\"\n",
       " \"Thiamine (mg)\"\n",
       " \"Riboflavin (mg)\"\n",
       " \"Niacin (mg)\"\n",
       " \"Ascorbic Acid (mg)\""
      ]
     },
     "metadata": {},
     "output_type": "display_data"
    }
   ],
   "source": [
    "using NamedArrays, CSV, DataFrames\n",
    "raw = CSV.read(\"stigler.csv\", DataFrame);\n",
    "(m,n) = size(raw)\n",
    "n_nutrients = 2:n      # columns containing nutrients\n",
    "n_foods = 3:m\n",
    "\n",
    "nut= names(raw)"
   ]
  },
  {
   "cell_type": "code",
   "execution_count": 44,
   "metadata": {},
   "outputs": [
    {
     "data": {
      "text/plain": [
       "77×9 Named Matrix{Float64}\n",
       "      foods ╲ nutrients │     Calories (1000)  …   Ascorbic Acid (mg)\n",
       "────────────────────────┼────────────────────────────────────────────\n",
       "Wheat Flour (Enriched)  │                44.7  …                  0.0\n",
       "Macaroni                │                11.6                     0.0\n",
       "Wheat Cereal (Enriched) │                11.8                     0.0\n",
       "Corn Flakes             │                11.4                     0.0\n",
       "Corn Meal               │                36.0                     0.0\n",
       "Hominy Grits            │                28.6                     0.0\n",
       "Rice                    │                21.2                     0.0\n",
       "Rolled Oats             │                25.3                     0.0\n",
       "⋮                                           ⋮  ⋱                    ⋮\n",
       "Coffee                  │                 0.0                     0.0\n",
       "Tea                     │                 0.0                     0.0\n",
       "Cocoa                   │                 8.7                     0.0\n",
       "Chocolate               │                 8.0                     0.0\n",
       "Sugar                   │                34.9                     0.0\n",
       "Corn Syrup              │                14.7                     0.0\n",
       "Molasses                │                 9.0                     0.0\n",
       "Strawberry Preserves    │                 6.4  …                  0.0"
      ]
     },
     "metadata": {},
     "output_type": "display_data"
    }
   ],
   "source": [
    "using NamedArrays, CSV, DataFrames\n",
    "\n",
    "# import Stigler's data set\n",
    "raw = CSV.read(\"stigler.csv\", DataFrame);\n",
    "(m,n) = size(raw)\n",
    "\n",
    "n_nutrients = 2:n      # columns containing nutrients\n",
    "n_foods = 3:m          # rows containing food names\n",
    "\n",
    "# list of food\n",
    "foods = raw[2:end,1]\n",
    "# list of nutrients\n",
    "nutrients = [string(names(raw)[i]) for i=2:length(names(raw))]\n",
    "\n",
    "# minimum required amount of each nutrient\n",
    "lower = Dict( zip(nutrients,raw[1,n_nutrients]) )\n",
    "\n",
    "# data[f,i] is the amount of nutrient i contained in food f \n",
    "dataraw = Matrix(values(raw[2:end,2:end]))\n",
    "data = NamedArray(dataraw,(foods,nutrients),(\"foods\",\"nutrients\"))\n",
    "#@showall data"
   ]
  },
  {
   "cell_type": "markdown",
   "metadata": {},
   "source": [
    "*c) Analyze your result. Did you ﬁnd the optimal solution? How does your cheapest diet compare in annual cost to Stigler’s? What foods make up your optimal diet?*"
   ]
  },
  {
   "cell_type": "code",
   "execution_count": 45,
   "metadata": {},
   "outputs": [
    {
     "name": "stdout",
     "output_type": "stream",
     "text": [
      "OPTIMAL\n",
      "The optimal (daily) diet is:\n",
      "Wheat Flour (Enriched): 0.02951906167648827\n",
      "Liver (Beef): 0.0018925572907052643\n",
      "Cabbage: 0.011214435246144865\n",
      "Spinach: 0.005007660466725203\n",
      "Navy Beans, Dried: 0.061028563526693246\n",
      "\n",
      "The cost per year is: $39.66173154546625\n",
      "Coin0506I Presolve 9 (0) rows, 76 (-1) columns and 569 (-1) elements\n",
      "Clp0006I 0  Obj 0 Primal inf 5.1310537 (9)\n",
      "Clp0006I 6  Obj 0.10866228\n",
      "Clp0000I Optimal - objective value 0.10866228\n",
      "Coin0511I After Postsolve, objective 0.10866228, infeasibilities - dual 0 (0), primal 0 (0)\n",
      "Clp0032I Optimal objective 0.1086622782 - 6 iterations time 0.002, Presolve 0.00\n"
     ]
    }
   ],
   "source": [
    "using JuMP,Clp\n",
    "m = Model(with_optimizer(Clp.Optimizer))\n",
    "\n",
    "@variable(m, x[foods] >= 0)\n",
    "for j in nutrients\n",
    "    @constraint(m, sum( data[i,j]*x[i] for i in foods ) >= lower[j] )\n",
    "end\n",
    "@objective(m, Min, sum(x))\n",
    "\n",
    "optimize!(m)\n",
    "\n",
    "# Check if the optimal solution is got\n",
    "status = termination_status(m)\n",
    "println(status)\n",
    "\n",
    "# Get the optimal diet \n",
    "println(\"The optimal (daily) diet is:\")\n",
    "xopt = JuMP.value.(x)\n",
    "for i in foods\n",
    "    if xopt[i] > 1e-6\n",
    "        println(i, \": \", xopt[i])\n",
    "    end\n",
    "end\n",
    "println()\n",
    "\n",
    "# Get the optimal annual cost\n",
    "println(\"The cost per year is: \\$\", 365*JuMP.objective_value(m))"
   ]
  },
  {
   "cell_type": "markdown",
   "metadata": {},
   "source": [
    "Yes, I found the optimal solution.\n",
    "\n",
    "The optimal annual cost is $39.66, which is lower than Stigler's cost.\n",
    "\n",
    "The foods are printed above."
   ]
  },
  {
   "cell_type": "markdown",
   "metadata": {},
   "source": [
    "*d) Suppose we wanted to ﬁnd the cheapest diet that was also vegetarian. Implement the new problem in Julia and ﬁnd the optimal solution. Is this solution cheaper or more expensive than the nonvegetarian solution? Is this as expected?*"
   ]
  },
  {
   "cell_type": "code",
   "execution_count": 46,
   "metadata": {},
   "outputs": [
    {
     "name": "stdout",
     "output_type": "stream",
     "text": [
      "Optimal diet without Beef liver:\n",
      "Wheat Flour (Enriched): 0.03545558140888772\n",
      "Evaporated Milk (can): 0.008591461668763572\n",
      "Cabbage: 0.011249517312443502\n",
      "Spinach: 0.005112832613199645\n",
      "Navy Beans, Dried: 0.048628043573168474\n",
      "\n",
      "The cost per year is: $39.79866435040896\n",
      "Coin0506I Presolve 9 (-1) rows, 75 (-2) columns and 560 (-11) elements\n",
      "Clp0006I 0  Obj 0 Primal inf 5.2148424 (9)\n",
      "Clp0006I 7  Obj 0.10903744\n",
      "Clp0000I Optimal - objective value 0.10903744\n",
      "Coin0511I After Postsolve, objective 0.10903744, infeasibilities - dual 0 (0), primal 0 (0)\n",
      "Clp0032I Optimal objective 0.1090374366 - 7 iterations time 0.002, Presolve 0.00\n"
     ]
    }
   ],
   "source": [
    "#= There are two ways to obtain a vegetarian diet:\n",
    "\n",
    "1. \n",
    "a) Go through the list of all food items, and remove the ones that are non-vegetarian.\n",
    "b) Solve then solve the problem without any of the vegetariam food items.\n",
    "\n",
    "2. \n",
    "a) Solve for the optimal diet obtained with all foods included. \n",
    "b) Remove all food items that are non-vegetarian and included in the optimal diet.\n",
    "c) Solve the problem again.\n",
    "d) Check if any of the included food items are non-vegetarian:\n",
    "- If there are still non-vegetarian items, go to step b)\n",
    "- If all items in the optimal diet are vegetarian, stop! You found the optimal vegetarian diet.\n",
    "\n",
    "Here, we will implement strategy 2.!\n",
    "\n",
    "=#\n",
    "\n",
    "# Loking at the solution from above, we see that we definitely can't have beef liver.\n",
    "# To try to make the diet vegetarian, remove beef liver and re-solve:\n",
    "\n",
    "@constraint(m, x[\"Liver (Beef)\"] == 0)    # set beef liver variable to zero\n",
    "optimize!(m)\n",
    "\n",
    "println(\"Optimal diet without Beef liver:\")\n",
    "xopt = JuMP.value.(x)\n",
    "for i in foods\n",
    "    if xopt[i] > 1e-6\n",
    "        println(i, \": \", xopt[i])\n",
    "    end\n",
    "end\n",
    "println()\n",
    "println(\"The cost per year is: \\$\", 365*objective_value(m))"
   ]
  },
  {
   "cell_type": "markdown",
   "metadata": {},
   "source": [
    "The solution is more expensive. This is as expected, because we add an additional constraints, which shrinks the set of feasible solutions."
   ]
  },
  {
   "cell_type": "markdown",
   "metadata": {},
   "source": [
    "**Comment:** simply excluding beef liver doesn't guarantee that the resulting solution will be vegetarian. But if it is, it's the optimal vegetarian diet. In general we can do this sequentially by removing non-vegetarian items from our solution and re-solving until we get a vegetarian diet. This will give us the same solution as if we had just gone through the entire list of foods, removed all non-vegetarian items, and solved the problem using the modified list of foods."
   ]
  },
  {
   "cell_type": "markdown",
   "metadata": {},
   "source": [
    "---\n",
    "## 3. Standard form with equality constraints\n",
    "\n",
    "Rather than using the standard LP form we saw in class, some prefer using a form where all variables are nonnegative, all constraints are equality constraints, and the cost function is a minimization. So a general LP would look like:\n",
    "\n",
    "$$\\begin{aligned}\n",
    "\\text{minimize} \\qquad& c^Tx \\\\\n",
    "\\text{subject to:} \\qquad& Ax = b \\\\\n",
    "& x \\ge 0\\\\\n",
    "\\end{aligned}$$\n",
    "\n",
    "Consider the following LP:\n",
    "$$\\begin{aligned}\n",
    "\\text{maximize} \\qquad& 3z_1 - z_2 \\\\\n",
    "\\text{subject to:} \\qquad& -z_1 + 6z_2 - z_3 + z_4 \\ge -3\\\\\n",
    "& 7z_2 + z_4 = 5 \\\\\n",
    "& z_3 + z_4 \\le 2 \\\\\n",
    "& -1 \\le z_2 \\le 5,\\quad -1 \\le z_3 \\le 5,\\quad -2 \\le z_4 \\le 2\n",
    "\\end{aligned}$$\n",
    "\n",
    "**a)** Transform the above LP into the equality-constrained standard form of (1). What are A, b, c,\n",
    "and x? Be sure to explain how the decision variables of your transformed LP relate to those of\n",
    "the original LP.\n",
    "\n",
    "**b)** Solve both versions of the LP using JuMP and show that you can recover the optimal z and\n",
    "objective value by solving your transformed version of the LP.\n",
    "\n",
    "### Rubric\n",
    "\n",
    "**a) Total 1 points**   \n",
    "-0.25 points for missing A, b, c or x.\n",
    "\n",
    "**a) Total 1 points**   \n",
    "-0.5 missing implementation.\n",
    "-0.5 wrong result.\n"
   ]
  },
  {
   "cell_type": "markdown",
   "metadata": {},
   "source": [
    "*a) Transform the above LP into the equality-constrained standard form of (1). What are A, b, c,\n",
    "and x? Be sure to explain how the decision variables of your transformed LP relate to those of\n",
    "the original LP.*\n",
    "\n",
    "\n",
    "\n",
    "\n"
   ]
  },
  {
   "cell_type": "markdown",
   "metadata": {},
   "source": [
    "### 1. Transform the decision variables. \n",
    "\n",
    "We have $z_1$ free, and $-1 \\le z_2 \\le 5,\\quad -1 \\le z_3 \\le 5,\\quad -2 \\le z_4 \\le 2$. To make all the variables in the standard form be positive, we need $z_1 = x_1 - x_5, \\quad z_2 + 1 = x_2, \\quad z_3 + 1 = x_3, \\quad z_4 + 2 = x_4$. Then we can have $x_i \\ge 0 \\quad \\forall i$.\n",
    "\n",
    "### 2. Modify the original LP.\n",
    "\n",
    "In this step, we need to:\n",
    "\n",
    "1. Change the maximize to minimize by mutiplying -1 to the objective function.\n",
    "\n",
    "2. Change the constraints with $\\ge$ to $\\le$ by mutiplying -1 both side.\n",
    "\n",
    "3. Replace the original variables by the transformed variables.\n",
    "\n",
    "$$\\begin{aligned}\n",
    "\\text{minimize} \\qquad& -3x_1 + 3x_5 + x_2 - 1 \\\\\n",
    "\\text{subject to:} \\qquad& x_1 - x_5 - 6x_2 + 6 + x_3 - 1 - x_4 + 2 \\le 3\\\\\n",
    "& 7x_2 - 7 + x_4 - 2 = 5 \\\\\n",
    "& x_3 - 1 + x_4 - 2 \\le 2 \\\\\n",
    "& 0 \\le x_1, \\quad 0 \\le x_2 \\le 6,\\quad 0 \\le x_3 \\le 6,\\quad 0 \\le x_4 \\le 4, \\quad 0 \\le x_5\n",
    "\\end{aligned}$$\n",
    "\n",
    "### 3. Change inequalities into equalities by adding slack variables. \n",
    "\n",
    "$$\\begin{aligned}\n",
    "\\text{minimize} \\qquad& -3x_1 + 3x_5 + x_2 - 1 \\\\\n",
    "\\text{subject to:} \\qquad& x_1 - x_5 - 6x_2 + x_3 - x_4 + x_6 = -4\\\\\n",
    "& 7x_2 + x_4 = 14 \\\\\n",
    "& x_3 + x_4 + x_7 = 5 \\\\\n",
    "& x_2 + x_8 = 6 \\\\\n",
    "& x_3 + x_9 = 6 \\\\\n",
    "& x_4 + x_10 = 4\\\\\n",
    "& 0 \\le x_1, \\quad 0 \\le x_2,\\quad 0 \\le x_3,\\quad 0 \\le x_4, \\quad 0 \\le x_5, \\quad 0 \\le x_6, \\quad 0 \\le x_7\n",
    "\\end{aligned}$$"
   ]
  },
  {
   "cell_type": "markdown",
   "metadata": {},
   "source": [
    "*b) Solve both versions of the LP using JuMP and show that you can recover the optimal z and\n",
    "objective value by solving your transformed version of the LP.*"
   ]
  },
  {
   "cell_type": "code",
   "execution_count": 47,
   "metadata": {},
   "outputs": [
    {
     "name": "stdout",
     "output_type": "stream",
     "text": [
      "Max 3 z[1] - z[2]\n",
      "Subject to\n",
      " 7 z[2] + z[4] == 5.0\n",
      " -z[1] + 6 z[2] - z[3] + z[4] >= -3.0\n",
      " z[3] + z[4] <= 2.0\n",
      " z[2] in [-1.0, 5.0]\n",
      " z[3] in [-1.0, 5.0]\n",
      " z[4] in [-2.0, 2.0]\n",
      "\n",
      "OPTIMAL\n",
      "\n",
      "z[1] = 8.571428571428571\n",
      "z[2] = 0.42857142857142855\n",
      "z[3] = -1.0\n",
      "z[4] = 2.0\n",
      "objective = 25.28571428571429\n",
      "Coin0506I Presolve 0 (-6) rows, 0 (-4) columns and 0 (-11) elements\n",
      "Clp3002W Empty problem - 0 rows, 0 columns and 0 elements\n",
      "Clp0000I Optimal - objective value 25.285714\n",
      "Coin0511I After Postsolve, objective 25.285714, infeasibilities - dual 0 (0), primal 0 (0)\n",
      "Clp0032I Optimal objective 25.28571429 - 0 iterations time 0.002, Presolve 0.00\n"
     ]
    }
   ],
   "source": [
    "# Solution of the original problem\n",
    "\n",
    "using JuMP,Clp\n",
    "m = Model(with_optimizer(Clp.Optimizer))\n",
    "\n",
    "@variable(m, z[1:4] )\n",
    "@constraints(m, begin\n",
    "    -1 <= z[2] <= 5\n",
    "    -1 <= z[3] <= 5\n",
    "    -2 <= z[4] <= 2\n",
    "    -z[1] + 6z[2] - z[3] + z[4] >= -3\n",
    "    z[3] + z[4] <= 2\n",
    "    7z[2] + z[4] == 5\n",
    "end)\n",
    "@objective(m, Max, 3z[1] - z[2])\n",
    "\n",
    "optimize!(m)\n",
    "status = termination_status(m)\n",
    "println(m)\n",
    "println(status)\n",
    "println()\n",
    "for i = 1:4\n",
    "    println(\"z[\", i, \"] = \", JuMP.value(z[i]) )\n",
    "end\n",
    "println(\"objective = \", JuMP.objective_value(m) )"
   ]
  },
  {
   "cell_type": "code",
   "execution_count": 48,
   "metadata": {},
   "outputs": [
    {
     "name": "stdout",
     "output_type": "stream",
     "text": [
      "Min -3 x[1] + 3 x[5] + x[2] - 1\n",
      "Subject to\n",
      " x[1] - 6 x[2] + x[3] - x[4] - x[5] + x[6] == -4.0\n",
      " 7 x[2] + x[4] == 14.0\n",
      " x[3] + x[4] + x[7] == 5.0\n",
      " x[2] + x[8] == 6.0\n",
      " x[3] + x[9] == 6.0\n",
      " x[4] + x[10] == 4.0\n",
      " x[1] >= 0.0\n",
      " x[2] >= 0.0\n",
      " x[3] >= 0.0\n",
      " x[4] >= 0.0\n",
      " x[5] >= 0.0\n",
      " x[6] >= 0.0\n",
      " x[7] >= 0.0\n",
      " x[8] >= 0.0\n",
      " x[9] >= 0.0\n",
      " x[10] >= 0.0\n",
      "\n",
      "OPTIMAL\n",
      "\n",
      "z[1] = 8.571428571428571\n",
      "z[2] = 0.4285714285714286\n",
      "z[3] = -1.0\n",
      "z[4] = 2.0\n",
      "objective = 25.28571428571429\n",
      "Coin0506I Presolve 0 (-6) rows, 0 (-10) columns and 0 (-17) elements\n",
      "Clp3002W Empty problem - 0 rows, 0 columns and 0 elements\n",
      "Clp0000I Optimal - objective value -25.285714\n",
      "Coin0511I After Postsolve, objective -25.285714, infeasibilities - dual 0 (0), primal 0 (0)\n",
      "Clp0032I Optimal objective -25.28571429 - 0 iterations time 0.002, Presolve 0.00\n"
     ]
    }
   ],
   "source": [
    "# Solution of new version of the problem\n",
    "\n",
    "using JuMP, Clp\n",
    "m = Model(with_optimizer(Clp.Optimizer))\n",
    "\n",
    "@variable(m, x[1:10] >= 0 )\n",
    "@constraints(m, begin\n",
    "    x[1] - x[5] - 6x[2] + x[3] - x[4] + x[6] == -4\n",
    "    7x[2] + x[4] == 14    \n",
    "    x[3] + x[4] + x[7] == 5\n",
    "    x[2] + x[8] == 6\n",
    "    x[3] + x[9] == 6\n",
    "    x[4] + x[10] == 4    \n",
    "\n",
    "end)\n",
    "@objective(m, Min, -3x[1] + 3x[5] + x[2] - 1 )\n",
    "\n",
    "optimize!(m)\n",
    "status = termination_status(m)\n",
    "println(m)\n",
    "println(status)\n",
    "println()\n",
    "println(\"z[1] = \", JuMP.value( x[1] - x[5] ))\n",
    "println(\"z[2] = \", JuMP.value( x[2] - 1) )\n",
    "println(\"z[3] = \", JuMP.value( x[3] - 1) )\n",
    "println(\"z[4] = \", JuMP.value( x[4] - 2) )\n",
    "println(\"objective = \", -JuMP.objective_value(m) )"
   ]
  },
  {
   "cell_type": "code",
   "execution_count": 49,
   "metadata": {},
   "outputs": [
    {
     "name": "stdout",
     "output_type": "stream",
     "text": [
      "Min -3 x[1] + 0.8333333333333333 x[2] - 0.16666666666666666 x[3]\n",
      "Subject to\n",
      " x[4] + x[5] == 6.0\n",
      " x[2] + x[3] == 6.0\n",
      " x[6] + x[7] == 4.0\n",
      " x[1] - 5 x[2] + x[3] + 0.8333333333333333 x[4] - 0.16666666666666666 x[5] - 0.5 x[6] + 0.5 x[7] + x[8] == 3.0\n",
      " 5.833333333333333 x[2] - 1.1666666666666665 x[3] + 0.5 x[6] - 0.5 x[7] == 5.0\n",
      " 0.8333333333333333 x[4] - 0.16666666666666666 x[5] + 0.5 x[6] - 0.5 x[7] + x[9] == 2.0\n",
      " x[1] >= 0.0\n",
      " x[2] >= 0.0\n",
      " x[3] >= 0.0\n",
      " x[4] >= 0.0\n",
      " x[5] >= 0.0\n",
      " x[6] >= 0.0\n",
      " x[7] >= 0.0\n",
      " x[8] >= 0.0\n",
      " x[9] >= 0.0\n",
      "\n",
      "OPTIMAL\n",
      "\n",
      "z[1] = 8.571428571428571\n",
      "z[2] = 0.4285714285714286\n",
      "z[3] = -1.0\n",
      "z[4] = 2.0\n",
      "objective = 25.28571428571429\n",
      "Coin0506I Presolve 0 (-6) rows, 0 (-9) columns and 0 (-23) elements\n",
      "Clp3002W Empty problem - 0 rows, 0 columns and 0 elements\n",
      "Clp0000I Optimal - objective value -25.285714\n",
      "Coin0511I After Postsolve, objective -25.285714, infeasibilities - dual 0 (0), primal 0 (0)\n",
      "Clp0032I Optimal objective -25.28571429 - 0 iterations time 0.002, Presolve 0.00\n"
     ]
    }
   ],
   "source": [
    "# Solution of the new version of the problem\n",
    "\n",
    "using JuMP, Clp\n",
    "m = Model(with_optimizer(Clp.Optimizer))\n",
    "\n",
    "@variable(m, x[1:9] >= 0 )\n",
    "@constraints(m, begin\n",
    "    x[4] + x[5] == 6\n",
    "    x[2] + x[3] == 6\n",
    "    x[6] + x[7] == 4\n",
    "    x[1]-5x[2]+x[3]+(5/6)x[4]-(1/6)x[5]-(1/2)x[6]+(1/2)x[7]+x[8] == 3\n",
    "    (35/6)x[2]-(7/6)x[3]+(1/2)x[6]-(1/2)x[7] == 5\n",
    "    (5/6)x[4]-(1/6)x[5]+(1/2)x[6]-(1/2)x[7]+x[9] == 2\n",
    "end)\n",
    "@objective(m, Min, -3x[1] + (5/6)x[2] - (1/6)x[3] )\n",
    "\n",
    "optimize!(m)\n",
    "status = termination_status(m)\n",
    "println(m)\n",
    "println(status)\n",
    "println()\n",
    "println(\"z[1] = \", JuMP.value( x[1] ))\n",
    "println(\"z[2] = \", JuMP.value( (5/6)x[2] - (1/6)x[3]) )\n",
    "println(\"z[3] = \", JuMP.value( (5/6)x[4] - (1/6)x[5]) )\n",
    "println(\"z[4] = \", JuMP.value( (1/2)x[6] - (1/2)x[7]) )\n",
    "println(\"objective = \", -JuMP.objective_value(m) )"
   ]
  },
  {
   "cell_type": "code",
   "execution_count": 50,
   "metadata": {},
   "outputs": [
    {
     "name": "stdout",
     "output_type": "stream",
     "text": [
      "Min -3 x[1] + 0.8333333333333334 x[2] - 0.16666666666666666 x[3]\n",
      "Subject to\n",
      " x[4] + x[5] == 6.0\n",
      " x[2] + x[3] == 6.0\n",
      " x[6] + x[7] == 4.0\n",
      " x[1] - 5 x[2] + x[3] + 0.8333333333333334 x[4] - 0.16666666666666666 x[5] - 0.5 x[6] + 0.5 x[7] + x[8] == 3.0\n",
      " 5.833333333333333 x[2] - 1.1666666666666667 x[3] + 0.5 x[6] - 0.5 x[7] == 5.0\n",
      " 0.8333333333333334 x[4] - 0.16666666666666666 x[5] + 0.5 x[6] - 0.5 x[7] + x[9] == 2.0\n",
      " x[1] >= 0.0\n",
      " x[2] >= 0.0\n",
      " x[3] >= 0.0\n",
      " x[4] >= 0.0\n",
      " x[5] >= 0.0\n",
      " x[6] >= 0.0\n",
      " x[7] >= 0.0\n",
      " x[8] >= 0.0\n",
      " x[9] >= 0.0\n",
      "\n",
      "OPTIMAL\n",
      "\n",
      "z[1] = 8.571428571428571\n",
      "z[2] = 0.4285714285714286\n",
      "z[3] = -1.0\n",
      "z[4] = 2.0\n",
      "objective = 25.28571428571429\n",
      "Coin0506I Presolve 0 (-6) rows, 0 (-9) columns and 0 (-23) elements\n",
      "Clp3002W Empty problem - 0 rows, 0 columns and 0 elements\n",
      "Clp0000I Optimal - objective value -25.285714\n",
      "Coin0511I After Postsolve, objective -25.285714, infeasibilities - dual 0 (0), primal 0 (0)\n",
      "Clp0032I Optimal objective -25.28571429 - 0 iterations time 0.002, Presolve 0.00\n"
     ]
    }
   ],
   "source": [
    "# Solution of the new version of the problem (condensed form)\n",
    "\n",
    "using JuMP, Clp\n",
    "m = Model(with_optimizer(Clp.Optimizer))\n",
    "\n",
    "@variable(m, x[1:9] >= 0 )\n",
    "\n",
    "A = [ 0   0    0    1    1    0    0    0    0\n",
    "      0   1    1    0    0    0    0    0    0\n",
    "      0   0    0    0    0    1    1    0    0\n",
    "      1  -5    1   5/6 -1/6 -1/2  1/2   1    0\n",
    "      0  35/6 -7/6  0    0   1/2 -1/2   0    0\n",
    "      0   0    0   5/6 -1/6  1/2 -1/2   0    1 ]\n",
    "\n",
    "b = [ 6; 6; 4; 3; 5; 2 ]\n",
    "\n",
    "c = [ -3; 5/6; -1/6; 0; 0; 0; 0; 0; 0 ]\n",
    "\n",
    "@constraint(m, A*x .== b)\n",
    "@objective(m, Min, c'*x)\n",
    "\n",
    "optimize!(m)\n",
    "status = termination_status(m)\n",
    "println(m)\n",
    "println(status)\n",
    "println()\n",
    "println(\"z[1] = \", JuMP.value( x[1] ))\n",
    "println(\"z[2] = \", JuMP.value( (5/6)x[2] - (1/6)x[3]) )\n",
    "println(\"z[3] = \", JuMP.value( (5/6)x[4] - (1/6)x[5]) )\n",
    "println(\"z[4] = \", JuMP.value( (1/2)x[6] - (1/2)x[7]) )\n",
    "println(\"objective = \", -JuMP.objective_value(m) )"
   ]
  },
  {
   "cell_type": "code",
   "execution_count": 51,
   "metadata": {},
   "outputs": [
    {
     "name": "stdout",
     "output_type": "stream",
     "text": [
      "Min -3 x[16] + 3 x[17] + x[2] - x[3]\n",
      "Subject to\n",
      " x[4] - x[5] + x[10] == 5.0\n",
      " -x[4] + x[5] + x[11] == 1.0\n",
      " x[2] - x[3] + x[12] == 5.0\n",
      " -x[2] + x[3] + x[13] == 1.0\n",
      " x[6] - x[7] + x[14] == 2.0\n",
      " -x[6] + x[7] + x[15] == 2.0\n",
      " -6 x[2] + 6 x[3] + x[4] - x[5] - x[6] + x[7] + x[8] + x[16] - x[17] == 3.0\n",
      " 7 x[2] - 7 x[3] + x[6] - x[7] == 5.0\n",
      " x[4] - x[5] + x[6] - x[7] + x[9] == 2.0\n",
      " x[1] >= 0.0\n",
      " x[2] >= 0.0\n",
      " x[3] >= 0.0\n",
      " x[4] >= 0.0\n",
      " x[5] >= 0.0\n",
      " x[6] >= 0.0\n",
      " x[7] >= 0.0\n",
      " x[8] >= 0.0\n",
      " x[9] >= 0.0\n",
      " x[10] >= 0.0\n",
      " x[11] >= 0.0\n",
      " x[12] >= 0.0\n",
      " x[13] >= 0.0\n",
      " x[14] >= 0.0\n",
      " x[15] >= 0.0\n",
      " x[16] >= 0.0\n",
      " x[17] >= 0.0\n",
      "\n",
      "OPTIMAL\n",
      "\n",
      "z[1] = 8.571428571428573\n",
      "z[2] = 0.4285714285714286\n",
      "z[3] = -1.0\n",
      "z[4] = 2.0\n",
      "objective = 25.285714285714292\n",
      "Coin0506I Presolve 6 (-3) rows, 6 (-11) columns and 18 (-18) elements\n",
      "Clp0006I 0  Obj 0 Primal inf 3.5228135 (2) Dual inf 7.7264317 (2)\n",
      "Clp0006I 3  Obj -25.285714\n",
      "Clp0000I Optimal - objective value -25.285714\n",
      "Coin0511I After Postsolve, objective -25.285714, infeasibilities - dual 0 (0), primal 0 (0)\n",
      "Clp0032I Optimal objective -25.28571429 - 3 iterations time 0.002, Presolve 0.00\n"
     ]
    }
   ],
   "source": [
    "# Solution of another new version of the problem\n",
    "\n",
    "using JuMP, Clp\n",
    "m = Model(with_optimizer(Clp.Optimizer))\n",
    "\n",
    "@variable(m, x[1:17] >= 0 )\n",
    "@constraints(m, begin\n",
    "    x[4] - x[5] + x[10] == 5\n",
    "    -x[4] + x[5] + x[11] == 1    \n",
    "    x[2] - x[3] + x[12] == 5\n",
    "    -x[2] + x[3] + x[13] == 1\n",
    "    x[6] - x[7] + x[14] == 2\n",
    "    -x[6] + x[7] + x[15] == 2    \n",
    "    x[16] - x[17] - 6x[2] + 6x[3] + x[4]- x[5] - x[6] + x[7] + x[8] == 3\n",
    "    7x[2] - 7x[3] + x[6] - x[7] == 5\n",
    "    x[4] - x[5] + x[6] - x[7]+x[9] == 2\n",
    "end)\n",
    "@objective(m, Min, -3x[16] + 3x[17] + x[2] - x[3] )\n",
    "\n",
    "optimize!(m)\n",
    "status = termination_status(m)\n",
    "println(m)\n",
    "println(status)\n",
    "println()\n",
    "println(\"z[1] = \", JuMP.value( x[16] - x[17] ))\n",
    "println(\"z[2] = \", JuMP.value( x[2] - x[3]) )\n",
    "println(\"z[3] = \", JuMP.value( x[4] - x[5]) )\n",
    "println(\"z[4] = \", JuMP.value( x[6] - x[7]) )\n",
    "println(\"objective = \", -JuMP.objective_value(m) )"
   ]
  },
  {
   "cell_type": "code",
   "execution_count": 52,
   "metadata": {},
   "outputs": [],
   "source": []
  }
 ],
 "metadata": {
  "@webio": {
   "lastCommId": null,
   "lastKernelId": null
  },
  "kernelspec": {
   "display_name": "Julia 1.7.2",
   "language": "julia",
   "name": "julia-1.7"
  },
  "language_info": {
   "file_extension": ".jl",
   "mimetype": "application/julia",
   "name": "julia",
   "version": "1.7.2"
  }
 },
 "nbformat": 4,
 "nbformat_minor": 2
}
