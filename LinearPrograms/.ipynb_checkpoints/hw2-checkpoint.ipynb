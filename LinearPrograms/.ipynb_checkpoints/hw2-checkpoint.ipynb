{
 "cells": [
  {
   "cell_type": "markdown",
   "metadata": {},
   "source": [
    "Name: Kyle Yeo"
   ]
  },
  {
   "cell_type": "markdown",
   "metadata": {},
   "source": [
    "# 1"
   ]
  },
  {
   "cell_type": "markdown",
   "metadata": {},
   "source": [
    "1. [2 points] Warmup. Model the following problem in JuMP.\n",
    "maximize\n",
    "x1,x2,x3\n",
    "6x1 − 2x2 + 3x3 (1)\n",
    "subject to: 2x1 ≤ x2 − x3 + 2 (2)\n",
    "0 ≤ xj ≤ 3, j ∈ {1, 2, 3} (3)"
   ]
  },
  {
   "cell_type": "markdown",
   "metadata": {},
   "source": [
    "a) Given the choice of the solvers Clp, ECOS, and SCS, which one would you choose? Why?\n",
    "\n",
    "- I could choose any of those solvers because all of three solvers support linear programming in common and the problem is a linear programming. However, I would choose Clp because based on what I've been observing, the Clp is the cheapest solver (fastest and less memory)."
   ]
  },
  {
   "cell_type": "markdown",
   "metadata": {},
   "source": [
    "b) Solve the problem using your selected solver. Print the termination status to check whether you\n",
    "have indeed obtained the optimal solution."
   ]
  },
  {
   "cell_type": "code",
   "execution_count": 1,
   "metadata": {},
   "outputs": [
    {
     "data": {
      "text/latex": [
       "$$ \\begin{aligned}\n",
       "\\max\\quad & 6 x1 - 2 x2 + 3 x3\\\\\n",
       "\\text{Subject to} \\quad & 2 x1 - x2 + x3 \\leq 2.0\\\\\n",
       " & x1 \\geq 0.0\\\\\n",
       " & x2 \\geq 0.0\\\\\n",
       " & x3 \\geq 0.0\\\\\n",
       " & x1 \\leq 3.0\\\\\n",
       " & x2 \\leq 3.0\\\\\n",
       " & x3 \\leq 3.0\\\\\n",
       "\\end{aligned} $$"
      ]
     },
     "metadata": {},
     "output_type": "display_data"
    },
    {
     "name": "stdout",
     "output_type": "stream",
     "text": [
      "  2.435058 seconds (8.72 M allocations: 499.963 MiB, 4.81% gc time, 99.33% compilation time)\n",
      "Termination status: OPTIMAL\n",
      "Coin0506I Presolve 1 (0) rows, 3 (0) columns and 3 (0) elements\n",
      "Clp0006I 0  Obj 0 Dual inf 8.9999998 (2)\n",
      "Clp0006I 1  Obj 9\n",
      "Clp0000I Optimal - objective value 9\n",
      "Clp0032I Optimal objective 9 - 1 iterations time 0.002\n"
     ]
    }
   ],
   "source": [
    "using Pkg\n",
    "using JuMP, Clp\n",
    "\n",
    "m = Model()\n",
    "set_optimizer(m, with_optimizer(Clp.Optimizer))\n",
    "\n",
    "#decision variables\n",
    "@variable(m, 0 <= x1 <=3)\n",
    "@variable(m, 0 <= x2 <=3)\n",
    "@variable(m, 0 <= x3 <=3)\n",
    "\n",
    "# constraints\n",
    "@constraint(m, 2*x1 <= x2-x3+2)\n",
    "\n",
    "\n",
    "#objective\n",
    "@objective(m, Max, 6*x1-2*x2+3*x3)\n",
    "\n",
    "\n",
    "print(m)\n",
    "@time optimize!(m)\n",
    "println(\"Termination status: \", termination_status(m))\n"
   ]
  },
  {
   "cell_type": "markdown",
   "metadata": {},
   "source": [
    "c) What is the optimal objective value? What is the optimal solution for the variables x1 and x2?"
   ]
  },
  {
   "cell_type": "code",
   "execution_count": 2,
   "metadata": {},
   "outputs": [
    {
     "name": "stdout",
     "output_type": "stream",
     "text": [
      "1.0\n",
      "3.0\n",
      "9.0\n"
     ]
    }
   ],
   "source": [
    "x1_value = value(x1)\n",
    "x2_value = value(x2)\n",
    "obj_value = objective_value(m)\n",
    "\n",
    "println(x1_value)\n",
    "println(x2_value)\n",
    "println(obj_value)"
   ]
  },
  {
   "cell_type": "markdown",
   "metadata": {},
   "source": [
    "The optimal objective value is 9 and the optimal solution for the variables x1 and x2 are 1,3, respectively"
   ]
  },
  {
   "cell_type": "markdown",
   "metadata": {},
   "source": [
    "d) Can you change one of the problem parameters to make the problem infeasible? Solve the new\n",
    "problem in JuMP and print the termination status to demonstrate that the problem is infeasible."
   ]
  },
  {
   "cell_type": "code",
   "execution_count": 3,
   "metadata": {},
   "outputs": [
    {
     "data": {
      "text/latex": [
       "$$ \\begin{aligned}\n",
       "\\max\\quad & 6 x1 - 2 x2 + 3 x3\\\\\n",
       "\\text{Subject to} \\quad & 2 x1 - x2 + x3 \\leq 2.0\\\\\n",
       " & x1 \\geq 5.0\\\\\n",
       " & x2 \\geq 0.0\\\\\n",
       " & x3 \\geq 0.0\\\\\n",
       " & x2 \\leq 3.0\\\\\n",
       " & x3 \\leq 3.0\\\\\n",
       "\\end{aligned} $$"
      ]
     },
     "metadata": {},
     "output_type": "display_data"
    },
    {
     "name": "stdout",
     "output_type": "stream",
     "text": [
      "  0.000583 seconds (810 allocations: 56.703 KiB)\n",
      "Termination status: INFEASIBLE\n",
      "Coin0507I Presolve determined that the problem was infeasible with tolerance of 1e-08\n",
      "Clp3003W Analysis indicates model infeasible or unbounded\n",
      "Clp0006I 0  Obj 30 Primal inf 7.9999999 (1) Dual inf 8.9999998 (2)\n",
      "Clp0006I 2  Obj 9 Primal inf 4.9999999 (1)\n",
      "Clp0001I Primal infeasible - objective value 9\n",
      "Clp0032I PrimalInfeasible objective 9 - 2 iterations time 0.002\n"
     ]
    }
   ],
   "source": [
    "using Pkg\n",
    "using JuMP, Clp\n",
    "\n",
    "m = Model()\n",
    "set_optimizer(m, with_optimizer(Clp.Optimizer))\n",
    "\n",
    "#decision variables\n",
    "@variable(m, x1 >= 5)\n",
    "@variable(m, 0 <= x2 <=3)\n",
    "@variable(m, 0 <= x3 <=3)\n",
    "\n",
    "# constraints\n",
    "@constraint(m, 2*x1 <= x2-x3+2)\n",
    "\n",
    "\n",
    "#objective\n",
    "@objective(m, Max, 6*x1-2*x2+3*x3)\n",
    "\n",
    "\n",
    "print(m)\n",
    "@time optimize!(m)\n",
    "println(\"Termination status: \", termination_status(m))\n"
   ]
  },
  {
   "cell_type": "markdown",
   "metadata": {},
   "source": [
    "# 2"
   ]
  },
  {
   "cell_type": "code",
   "execution_count": 4,
   "metadata": {},
   "outputs": [
    {
     "data": {
      "text/plain": [
       "9-element Vector{Float64}:\n",
       "  3.0\n",
       " 70.0\n",
       "  0.8\n",
       " 12.0\n",
       "  5.0\n",
       "  1.8\n",
       "  2.7\n",
       " 18.0\n",
       " 75.0"
      ]
     },
     "execution_count": 4,
     "metadata": {},
     "output_type": "execute_result"
    }
   ],
   "source": [
    "# STARTER CODE TO LOAD DATA FOR STIGLER'S DIET PROBLEM\n",
    "\n",
    "# Add packages\n",
    "using Pkg\n",
    "using CSV\n",
    "using DataFrames\n",
    "\n",
    "# import Stigler's data set as a dataframe\n",
    "raw = CSV.read(\"stigler.csv\", DataFrame)\n",
    "\n",
    "(m,n) = size(raw)  # m = number of rows, n = number of columns\n",
    "\n",
    "n_nutrients = 2:n      # indices of columns containing nutrients (skip the first one)\n",
    "n_foods = 2:m          # indices of rows containing food names (skip the two first ones)\n",
    "\n",
    "nutrients = names(raw)[n_nutrients]   # the list of nutrients \n",
    "foods = raw[n_foods,1]                # the list of foods \n",
    "\n",
    "# Put the data about nutrients and foods into an array\n",
    "data = Matrix(raw[n_foods,n_nutrients])\n",
    "\n",
    "# lower[i] is the minimum daily requirement of nutrient i.\n",
    "lower = Vector(raw[1,n_nutrients])"
   ]
  },
  {
   "cell_type": "code",
   "execution_count": 5,
   "metadata": {},
   "outputs": [],
   "source": [
    "#minimum required - 3000Calories, 70g protein, 0.8g calcium, 12mg Iron, 5000IU Vitamin..."
   ]
  },
  {
   "cell_type": "markdown",
   "metadata": {},
   "source": [
    "a) Formulate the optimization problem:\n",
    "\n",
    "• What are the decision variables in this problem?\n",
    "\n",
    "- Decision variables in this problem are each foods in the row\n",
    "\n",
    "• What is the objective of this optimization problem?\n",
    "\n",
    "- The objective of the optimization problem is to minimize the total diet cost\n",
    "\n",
    "• What are the constraints of the optimization problem?\n",
    "\n",
    "- The constraints of the optimization problem the minimum required amount of each nutrients in the column \n",
    "\n",
    "Answer both with an explanation in words and with the mathematical model."
   ]
  },
  {
   "cell_type": "code",
   "execution_count": 6,
   "metadata": {},
   "outputs": [
    {
     "data": {
      "text/latex": [
       "$$ food_{1} + food_{2} + food_{3} + food_{4} + food_{5} + food_{6} + food_{7} + food_{8} + food_{9} + food_{10} + food_{11} + food_{12} + food_{13} + food_{14} + food_{15} + food_{16} + food_{17} + food_{18} + food_{19} + food_{20} + food_{21} + food_{22} + food_{23} + food_{24} + food_{25} + food_{26} + food_{27} + food_{28} + food_{29} + food_{30} + food_{31} + food_{32} + food_{33} + food_{34} + food_{35} + food_{36} + food_{37} + food_{38} + food_{39} + food_{40} + food_{41} + food_{42} + food_{43} + food_{44} + food_{45} + food_{46} + food_{47} + food_{48} + food_{49} + food_{50} + food_{51} + food_{52} + food_{53} + food_{54} + food_{55} + food_{56} + food_{57} + food_{58} + food_{59} + food_{60} + food_{61} + food_{62} + food_{63} + food_{64} + food_{65} + food_{66} + food_{67} + food_{68} + food_{69} + food_{70} + food_{71} + food_{72} + food_{73} + food_{74} + food_{75} + food_{76} + food_{77} $$"
      ],
      "text/plain": [
       "food[1] + food[2] + food[3] + food[4] + food[5] + food[6] + food[7] + food[8] + food[9] + food[10] + food[11] + food[12] + food[13] + food[14] + food[15] + food[16] + food[17] + food[18] + food[19] + food[20] + food[21] + food[22] + food[23] + food[24] + food[25] + food[26] + food[27] + food[28] + food[29] + food[30] + food[31] + food[32] + food[33] + food[34] + food[35] + food[36] + food[37] + food[38] + food[39] + food[40] + food[41] + food[42] + food[43] + food[44] + food[45] + food[46] + food[47] + food[48] + food[49] + food[50] + food[51] + food[52] + food[53] + food[54] + food[55] + food[56] + food[57] + food[58] + food[59] + food[60] + food[61] + food[62] + food[63] + food[64] + food[65] + food[66] + food[67] + food[68] + food[69] + food[70] + food[71] + food[72] + food[73] + food[74] + food[75] + food[76] + food[77]"
      ]
     },
     "execution_count": 6,
     "metadata": {},
     "output_type": "execute_result"
    }
   ],
   "source": [
    "model = Model()\n",
    "set_optimizer(model, with_optimizer(Clp.Optimizer))\n",
    "\n",
    "@variable(model, food[i=1:77] >= 0)\n",
    "\n",
    "for i = 1:9\n",
    "    @constraint(model, sum(data[j,i]*food[j] for j = 1:77) >= lower[i])\n",
    "end\n",
    "\n",
    "@objective(model, Min, sum(food))"
   ]
  },
  {
   "cell_type": "markdown",
   "metadata": {},
   "source": [
    "b) Implement the optimization problem in Julia. To get you started, Stigler’s original data is provided\n",
    "in stigler.csv, and the IJulia notebook stigler.ipynb imports the data and puts it into a\n",
    "convenient matrix format."
   ]
  },
  {
   "cell_type": "code",
   "execution_count": 7,
   "metadata": {},
   "outputs": [
    {
     "name": "stdout",
     "output_type": "stream",
     "text": [
      "Termination status: OPTIMAL\n",
      "39.66173154546625\n",
      "Wheat Flour (Enriched)\n",
      "Liver (Beef)\n",
      "Cabbage\n",
      "Spinach\n",
      "Navy Beans, Dried\n",
      "Coin0506I Presolve 9 (0) rows, 76 (-1) columns and 569 (-1) elements\n",
      "Clp0006I 0  Obj 0 Primal inf 5.1310537 (9)\n",
      "Clp0006I 6  Obj 0.10866228\n",
      "Clp0000I Optimal - objective value 0.10866228\n",
      "Coin0511I After Postsolve, objective 0.10866228, infeasibilities - dual 0 (0), primal 0 (0)\n",
      "Clp0032I Optimal objective 0.1086622782 - 6 iterations time 0.002, Presolve 0.00\n"
     ]
    }
   ],
   "source": [
    "optimize!(model)\n",
    "obj_value2 = objective_value(model)\n",
    "\n",
    "println(\"Termination status: \", termination_status(model))\n",
    "println(obj_value2 * 365)\n",
    "\n",
    "\n",
    "for i in 1:77\n",
    "    if value(food[i]) > 0\n",
    "        println(foods[i]) #foods that make up the optimal diet\n",
    "    end\n",
    "end"
   ]
  },
  {
   "cell_type": "markdown",
   "metadata": {},
   "source": [
    "c) Analyze your result. Did you find the optimal solution? How does your cheapest diet compare in\n",
    "annual cost to Stigler’s? What foods make up your optimal diet?"
   ]
  },
  {
   "cell_type": "markdown",
   "metadata": {},
   "source": [
    "- I found the optimal solution, which is 0.1086622782 * 365 = 39.66 and it is a little bit lower cost than the annual cost calculated by Stigler\n",
    "- The foods that make up the optimal solution are What Flour (Enriched), Liver (Beef), Cabbage, Spinach, Navy Beans, Dried"
   ]
  },
  {
   "cell_type": "markdown",
   "metadata": {},
   "source": [
    "d) Suppose we wanted to find the cheapest diet that was also vegetarian. Implement the new problem\n",
    "in Julia and find the optimal solution. Is this solution cheaper or more expensive than the nonvegetarian solution? Is this as expected?\n",
    "\n",
    "- I made the new vegan csv file below and found the new optimal solution with vegan diet, which is 46.58\n",
    "- I would expect that the solution is more expensive than the nonvegetarian solution and the solution is more expensive than the nonvegetarian solution as I expected"
   ]
  },
  {
   "cell_type": "code",
   "execution_count": 8,
   "metadata": {},
   "outputs": [
    {
     "data": {
      "text/latex": [
       "$$ vegan_{1} + vegan_{2} + vegan_{3} + vegan_{4} + vegan_{5} + vegan_{6} + vegan_{7} + vegan_{8} + vegan_{9} + vegan_{10} + vegan_{11} + vegan_{12} + vegan_{13} + vegan_{14} + vegan_{15} + vegan_{16} + vegan_{17} + vegan_{18} + vegan_{19} + vegan_{20} + vegan_{21} + vegan_{22} + vegan_{23} + vegan_{24} + vegan_{25} + vegan_{26} + vegan_{27} + vegan_{28} + vegan_{29} + vegan_{30} + vegan_{31} + vegan_{32} + vegan_{33} + vegan_{34} + vegan_{35} + vegan_{36} + vegan_{37} + vegan_{38} + vegan_{39} + vegan_{40} + vegan_{41} + vegan_{42} + vegan_{43} + vegan_{44} + vegan_{45} + vegan_{46} + vegan_{47} + vegan_{48} + vegan_{49} + vegan_{50} $$"
      ],
      "text/plain": [
       "vegan[1] + vegan[2] + vegan[3] + vegan[4] + vegan[5] + vegan[6] + vegan[7] + vegan[8] + vegan[9] + vegan[10] + vegan[11] + vegan[12] + vegan[13] + vegan[14] + vegan[15] + vegan[16] + vegan[17] + vegan[18] + vegan[19] + vegan[20] + vegan[21] + vegan[22] + vegan[23] + vegan[24] + vegan[25] + vegan[26] + vegan[27] + vegan[28] + vegan[29] + vegan[30] + vegan[31] + vegan[32] + vegan[33] + vegan[34] + vegan[35] + vegan[36] + vegan[37] + vegan[38] + vegan[39] + vegan[40] + vegan[41] + vegan[42] + vegan[43] + vegan[44] + vegan[45] + vegan[46] + vegan[47] + vegan[48] + vegan[49] + vegan[50]"
      ]
     },
     "execution_count": 8,
     "metadata": {},
     "output_type": "execute_result"
    }
   ],
   "source": [
    "raw2 = CSV.read(\"vegan_stigler.csv\", DataFrame)\n",
    "\n",
    "(m,n) = size(raw2)  # m = number of rows, n = number of columns\n",
    "\n",
    "n_nutrients = 2:n      # indices of columns containing nutrients (skip the first one)\n",
    "n_foods = 2:m          # indices of rows containing food names (skip the two first ones)\n",
    "\n",
    "v_nutrients = names(raw)[n_nutrients]   # the list of nutrients \n",
    "v_foods = raw[n_foods,1]                # the list of foods \n",
    "\n",
    "# Put the data about nutrients and foods into an array\n",
    "data2 = Matrix(raw[n_foods,n_nutrients])\n",
    "\n",
    "# lower[i] is the minimum daily requirement of nutrient i.\n",
    "lower2 = Vector(raw[1,n_nutrients])\n",
    "\n",
    "model2 = Model()\n",
    "set_optimizer(model2, with_optimizer(Clp.Optimizer))\n",
    "\n",
    "@variable(model2, vegan[i=1:50] >= 0)\n",
    "for i = 1:9\n",
    "    @constraint(model2, sum(data2[j,i]*vegan[j] for j = 1:50) >= lower2[i])\n",
    "end\n",
    "@objective(model2, Min, sum(vegan))"
   ]
  },
  {
   "cell_type": "code",
   "execution_count": 9,
   "metadata": {},
   "outputs": [
    {
     "name": "stdout",
     "output_type": "stream",
     "text": [
      "Termination status: OPTIMAL\n",
      "46.57985737400373\n",
      "Coin0506I Presolve 9 (0) rows, 50 (0) columns and 367 (0) elements\n",
      "Clp0006I 0  Obj 0 Primal inf 7.0896911 (9)\n",
      "Clp0006I 6  Obj 0.12761605\n",
      "Clp0000I Optimal - objective value 0.12761605\n",
      "Clp0032I Optimal objective 0.1276160476 - 6 iterations time 0.002\n"
     ]
    }
   ],
   "source": [
    "optimize!(model2)\n",
    "obj_value3 = objective_value(model2)\n",
    "\n",
    "println(\"Termination status: \", termination_status(model2))\n",
    "println(obj_value3 * 365)"
   ]
  },
  {
   "cell_type": "markdown",
   "metadata": {},
   "source": [
    "# 3"
   ]
  },
  {
   "cell_type": "markdown",
   "metadata": {},
   "source": [
    "3. [2 points] Standard form with equality constraints. Rather than using the standard LP form we\n",
    "saw in class, some prefer using a form where all variables are nonnegative, all constraints are equality\n",
    "constraints, and the cost function is a minimization. So a general LP would look like:"
   ]
  },
  {
   "cell_type": "markdown",
   "metadata": {},
   "source": [
    "a) Transform the above LP into the equality-constrained standard form of (??). What are A, b, c,\n",
    "and x? Be sure to explain how the decision variables of your transformed LP relate to those of\n",
    "the original LP.\n",
    "\n"
   ]
  },
  {
   "cell_type": "markdown",
   "metadata": {},
   "source": [
    "- I got the total of 9 variables, which are z1 through z9 so the vector x is [z1,z2,z3,z4,z5,z6,z7,z8,z9]\n",
    "- I got the 6x9 matrix A, which is A=[-1 6 -1 1 -1 0 0 0 0; \n",
    "    0 0 1 1 0 1 0 0 0; \n",
    "    0 7 0 1 0 0 0 0 0; \n",
    "    0 1 0 0 0 0 1 0 0; \n",
    "    0 0 1 0 0 0 0 1 0;\n",
    "    0 0 0 1 0 0 0 0 1]\n",
    "- I got the vector b, which is [4 ; -1; -4; 6 ; 6; 4]\n",
    "- I got the vector c, which is [-3 1 0 0 0 0 0 0 0]"
   ]
  },
  {
   "cell_type": "markdown",
   "metadata": {},
   "source": [
    "b) Solve both versions of the LP using JuMP and show that you can recover the optimal z and\n",
    "objective value by solving your transformed version of the LP."
   ]
  },
  {
   "cell_type": "code",
   "execution_count": 12,
   "metadata": {},
   "outputs": [
    {
     "name": "stdout",
     "output_type": "stream",
     "text": [
      "z1 value: 8.571428571428571\n",
      "z2 value: 0.42857142857142855\n",
      "z3 value: -1.0\n",
      "z4 value: 2.0\n",
      "Objevtive value: 25.28571428571429\n",
      "Coin0506I Presolve 0 (-3) rows, 0 (-4) columns and 0 (-8) elements\n",
      "Clp3002W Empty problem - 0 rows, 0 columns and 0 elements\n",
      "Clp0000I Optimal - objective value 25.285714\n",
      "Coin0511I After Postsolve, objective 25.285714, infeasibilities - dual 0 (0), primal 0 (0)\n",
      "Clp0032I Optimal objective 25.28571429 - 0 iterations time 0.002, Presolve 0.00\n"
     ]
    }
   ],
   "source": [
    "#original version solution\n",
    "m3 = Model()\n",
    "set_optimizer(m3, with_optimizer(Clp.Optimizer))\n",
    "\n",
    "#decision variables\n",
    "@variable(m3, z1)\n",
    "@variable(m3, -1 <= z2 <= 5)\n",
    "@variable(m3, -1 <= z3 <= 5)\n",
    "@variable(m3, -2 <= z4 <= 2)\n",
    "\n",
    "#constraints\n",
    "@constraint(m3, -z1 + 6*z2 - z3 + z4  >= -3)\n",
    "@constraint(m3, 7*z2 + z4 == 5)\n",
    "@constraint(m3, z3 + z4 <= 2)\n",
    "\n",
    "#objective\n",
    "@objective(m3, Max, 3*z1 - z2)\n",
    "\n",
    "optimize!(m3)\n",
    "println(\"z1 value: \", value(z1))\n",
    "println(\"z2 value: \", value(z2))\n",
    "println(\"z3 value: \", value(z3))\n",
    "println(\"z4 value: \", value(z4))\n",
    "println(\"Objevtive value: \", objective_value(m3))"
   ]
  },
  {
   "cell_type": "markdown",
   "metadata": {},
   "source": [
    "- As shown in the above, for the original version, I got the 25.28571428571429 for the optimal value\n"
   ]
  },
  {
   "cell_type": "code",
   "execution_count": 11,
   "metadata": {},
   "outputs": [
    {
     "name": "stdout",
     "output_type": "stream",
     "text": [
      "Objevtive value: 25.000000000000004\n",
      "z1 value: 8.571428571428571\n",
      "z2 value: 0.42857142857142855\n",
      "z3 value: -1.0\n",
      "z4 value: 2.0\n",
      "Coin0507I Presolve determined that the problem was infeasible with tolerance of 1e-08\n",
      "Clp3003W Analysis indicates model infeasible or unbounded\n",
      "Clp0006I 0  Obj 1 Primal inf 19.545316 (6) Dual inf 7.2082282 (1)\n",
      "Clp0006I 6  Obj 25 Primal inf 6.4658652 (2)\n",
      "Clp0001I Primal infeasible - objective value 25\n",
      "Clp0032I PrimalInfeasible objective 25 - 6 iterations time 0.002\n"
     ]
    }
   ],
   "source": [
    "#Transformed version of the LP\n",
    "A=[-1 6 -1 1 -1 0 0 0 0; \n",
    "    0 0 1 1 0 1 0 0 0; \n",
    "    0 7 0 1 0 0 0 0 0; \n",
    "    0 1 0 0 0 0 1 0 0; \n",
    "    0 0 1 0 0 0 0 1 0;\n",
    "    0 0 0 1 0 0 0 0 1]\n",
    "\n",
    "b = [4; -1; -4; 6; 6; 4]\n",
    "\n",
    "trans = Model()\n",
    "set_optimizer(trans, with_optimizer(Clp.Optimizer))\n",
    "\n",
    "#decision variables\n",
    "@variable(trans, z[1:9]>=0)\n",
    "\n",
    "#constraints\n",
    "for i= 1:6\n",
    "    @constraint(trans,sum(A[i,j]*z[j] for j=1:9) == b[i] ) #To affine equality\n",
    "end\n",
    "\n",
    "#objective\n",
    "@objective(trans, Min, -3*z[1]+z[2]+1)\n",
    "\n",
    "optimize!(trans)\n",
    "println(\"Objevtive value: \", objective_value(trans))\n",
    "println(\"z1 value: \", value(z1))\n",
    "println(\"z2 value: \", value(z2))\n",
    "println(\"z3 value: \", value(z3))\n",
    "println(\"z4 value: \", value(z4))"
   ]
  },
  {
   "cell_type": "markdown",
   "metadata": {},
   "source": [
    "- As shown in the above cell, I got the objective value of 25, which is the same from the one calculated from the original version. Also, I observed that the all z values completely recovered."
   ]
  }
 ],
 "metadata": {
  "@webio": {
   "lastCommId": null,
   "lastKernelId": null
  },
  "kernelspec": {
   "display_name": "Julia 1.7.2",
   "language": "julia",
   "name": "julia-1.7"
  },
  "language_info": {
   "file_extension": ".jl",
   "mimetype": "application/julia",
   "name": "julia",
   "version": "1.7.2"
  }
 },
 "nbformat": 4,
 "nbformat_minor": 1
}
