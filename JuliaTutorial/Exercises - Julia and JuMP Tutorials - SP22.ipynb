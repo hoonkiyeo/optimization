{
 "cells": [
  {
   "cell_type": "markdown",
   "metadata": {},
   "source": [
    "#### Exercises for Julia and JuMP Tutorials\n",
    "\n",
    "After you have gone through the tutorial, you should be able to fill in these simple exercises. To submit your reponse, please take the following steps: \n",
    "1. Make sure to run all the cells (such that we can see the output that you create).\n",
    "2. Print a pdf of the notebook (make sure that it is easily readable).\n",
    "3. Upload the pdf to Canvas by **Friday February 4**."
   ]
  },
  {
   "cell_type": "markdown",
   "metadata": {},
   "source": [
    "### Exercises\n",
    "\n",
    "#### 1.0\n",
    "\n",
    "Get started by reading the following statements about your work and signing that you agree by typing your name:\n",
    "\n",
    "1. I have read and understood the homework information available on Canvas (https://canvas.wisc.edu/courses/192244/pages/homework-information)\n",
    "\n",
    "2. You are encouraged to discuss homework problems with classmates and even work in groups. However, **the work you turn in must be your own**, and not copied from others. \n",
    "\n",
    "3. PLAGIARISM AND OTHER TYPES OF ACADEMIC MISCONDUCT IS NOT TOLERATED AND WILL HAVE CONSEQUENCES. \n",
    "\n",
    "SIGNATURE: Kyle Yeo"
   ]
  },
  {
   "cell_type": "markdown",
   "metadata": {},
   "source": [
    "#### 1.1 Finding help\n",
    "\n",
    "Look up docs for the function `convert`."
   ]
  },
  {
   "cell_type": "code",
   "execution_count": 1,
   "metadata": {},
   "outputs": [
    {
     "name": "stdout",
     "output_type": "stream",
     "text": [
      "search: \u001b[0m\u001b[1mc\u001b[22m\u001b[0m\u001b[1mo\u001b[22m\u001b[0m\u001b[1mn\u001b[22m\u001b[0m\u001b[1mv\u001b[22m\u001b[0m\u001b[1me\u001b[22m\u001b[0m\u001b[1mr\u001b[22m\u001b[0m\u001b[1mt\u001b[22m \u001b[0m\u001b[1mC\u001b[22m\u001b[0m\u001b[1mo\u001b[22m\u001b[0m\u001b[1mn\u001b[22mcurrency\u001b[0m\u001b[1mV\u001b[22miolation\u001b[0m\u001b[1mE\u001b[22m\u001b[0m\u001b[1mr\u001b[22mror \u001b[0m\u001b[1mc\u001b[22m\u001b[0m\u001b[1mo\u001b[22mde_\u001b[0m\u001b[1mn\u001b[22mati\u001b[0m\u001b[1mv\u001b[22m\u001b[0m\u001b[1me\u001b[22m @\u001b[0m\u001b[1mc\u001b[22m\u001b[0m\u001b[1mo\u001b[22mde_\u001b[0m\u001b[1mn\u001b[22mati\u001b[0m\u001b[1mv\u001b[22m\u001b[0m\u001b[1me\u001b[22m\n",
      "\n"
     ]
    },
    {
     "data": {
      "text/latex": [
       "\\begin{verbatim}\n",
       "convert(T, x)\n",
       "\\end{verbatim}\n",
       "Convert \\texttt{x} to a value of type \\texttt{T}.\n",
       "\n",
       "If \\texttt{T} is an \\href{@ref}{\\texttt{Integer}} type, an \\href{@ref}{\\texttt{InexactError}} will be raised if \\texttt{x} is not representable by \\texttt{T}, for example if \\texttt{x} is not integer-valued, or is outside the range supported by \\texttt{T}.\n",
       "\n",
       "\\section{Examples}\n",
       "\\begin{verbatim}\n",
       "julia> convert(Int, 3.0)\n",
       "3\n",
       "\n",
       "julia> convert(Int, 3.5)\n",
       "ERROR: InexactError: Int64(3.5)\n",
       "Stacktrace:\n",
       "[...]\n",
       "\\end{verbatim}\n",
       "If \\texttt{T} is a \\href{@ref}{\\texttt{AbstractFloat}} or \\href{@ref}{\\texttt{Rational}} type, then it will return the closest value to \\texttt{x} representable by \\texttt{T}.\n",
       "\n",
       "\\begin{verbatim}\n",
       "julia> x = 1/3\n",
       "0.3333333333333333\n",
       "\n",
       "julia> convert(Float32, x)\n",
       "0.33333334f0\n",
       "\n",
       "julia> convert(Rational{Int32}, x)\n",
       "1//3\n",
       "\n",
       "julia> convert(Rational{Int64}, x)\n",
       "6004799503160661//18014398509481984\n",
       "\\end{verbatim}\n",
       "If \\texttt{T} is a collection type and \\texttt{x} a collection, the result of \\texttt{convert(T, x)} may alias all or part of \\texttt{x}.\n",
       "\n",
       "\\begin{verbatim}\n",
       "julia> x = Int[1, 2, 3];\n",
       "\n",
       "julia> y = convert(Vector{Int}, x);\n",
       "\n",
       "julia> y === x\n",
       "true\n",
       "\\end{verbatim}\n",
       "See also: \\href{@ref}{\\texttt{round}}, \\href{@ref}{\\texttt{trunc}}, \\href{@ref}{\\texttt{oftype}}, \\href{@ref}{\\texttt{reinterpret}}.\n",
       "\n"
      ],
      "text/markdown": [
       "```\n",
       "convert(T, x)\n",
       "```\n",
       "\n",
       "Convert `x` to a value of type `T`.\n",
       "\n",
       "If `T` is an [`Integer`](@ref) type, an [`InexactError`](@ref) will be raised if `x` is not representable by `T`, for example if `x` is not integer-valued, or is outside the range supported by `T`.\n",
       "\n",
       "# Examples\n",
       "\n",
       "```jldoctest\n",
       "julia> convert(Int, 3.0)\n",
       "3\n",
       "\n",
       "julia> convert(Int, 3.5)\n",
       "ERROR: InexactError: Int64(3.5)\n",
       "Stacktrace:\n",
       "[...]\n",
       "```\n",
       "\n",
       "If `T` is a [`AbstractFloat`](@ref) or [`Rational`](@ref) type, then it will return the closest value to `x` representable by `T`.\n",
       "\n",
       "```jldoctest\n",
       "julia> x = 1/3\n",
       "0.3333333333333333\n",
       "\n",
       "julia> convert(Float32, x)\n",
       "0.33333334f0\n",
       "\n",
       "julia> convert(Rational{Int32}, x)\n",
       "1//3\n",
       "\n",
       "julia> convert(Rational{Int64}, x)\n",
       "6004799503160661//18014398509481984\n",
       "```\n",
       "\n",
       "If `T` is a collection type and `x` a collection, the result of `convert(T, x)` may alias all or part of `x`.\n",
       "\n",
       "```jldoctest\n",
       "julia> x = Int[1, 2, 3];\n",
       "\n",
       "julia> y = convert(Vector{Int}, x);\n",
       "\n",
       "julia> y === x\n",
       "true\n",
       "```\n",
       "\n",
       "See also: [`round`](@ref), [`trunc`](@ref), [`oftype`](@ref), [`reinterpret`](@ref).\n"
      ],
      "text/plain": [
       "\u001b[36m  convert(T, x)\u001b[39m\n",
       "\n",
       "  Convert \u001b[36mx\u001b[39m to a value of type \u001b[36mT\u001b[39m.\n",
       "\n",
       "  If \u001b[36mT\u001b[39m is an \u001b[36mInteger\u001b[39m type, an \u001b[36mInexactError\u001b[39m will be raised if \u001b[36mx\u001b[39m is not\n",
       "  representable by \u001b[36mT\u001b[39m, for example if \u001b[36mx\u001b[39m is not integer-valued, or is outside\n",
       "  the range supported by \u001b[36mT\u001b[39m.\n",
       "\n",
       "\u001b[1m  Examples\u001b[22m\n",
       "\u001b[1m  ≡≡≡≡≡≡≡≡≡≡\u001b[22m\n",
       "\n",
       "\u001b[36m  julia> convert(Int, 3.0)\u001b[39m\n",
       "\u001b[36m  3\u001b[39m\n",
       "\u001b[36m  \u001b[39m\n",
       "\u001b[36m  julia> convert(Int, 3.5)\u001b[39m\n",
       "\u001b[36m  ERROR: InexactError: Int64(3.5)\u001b[39m\n",
       "\u001b[36m  Stacktrace:\u001b[39m\n",
       "\u001b[36m  [...]\u001b[39m\n",
       "\n",
       "  If \u001b[36mT\u001b[39m is a \u001b[36mAbstractFloat\u001b[39m or \u001b[36mRational\u001b[39m type, then it will return the closest\n",
       "  value to \u001b[36mx\u001b[39m representable by \u001b[36mT\u001b[39m.\n",
       "\n",
       "\u001b[36m  julia> x = 1/3\u001b[39m\n",
       "\u001b[36m  0.3333333333333333\u001b[39m\n",
       "\u001b[36m  \u001b[39m\n",
       "\u001b[36m  julia> convert(Float32, x)\u001b[39m\n",
       "\u001b[36m  0.33333334f0\u001b[39m\n",
       "\u001b[36m  \u001b[39m\n",
       "\u001b[36m  julia> convert(Rational{Int32}, x)\u001b[39m\n",
       "\u001b[36m  1//3\u001b[39m\n",
       "\u001b[36m  \u001b[39m\n",
       "\u001b[36m  julia> convert(Rational{Int64}, x)\u001b[39m\n",
       "\u001b[36m  6004799503160661//18014398509481984\u001b[39m\n",
       "\n",
       "  If \u001b[36mT\u001b[39m is a collection type and \u001b[36mx\u001b[39m a collection, the result of \u001b[36mconvert(T, x)\u001b[39m\n",
       "  may alias all or part of \u001b[36mx\u001b[39m.\n",
       "\n",
       "\u001b[36m  julia> x = Int[1, 2, 3];\u001b[39m\n",
       "\u001b[36m  \u001b[39m\n",
       "\u001b[36m  julia> y = convert(Vector{Int}, x);\u001b[39m\n",
       "\u001b[36m  \u001b[39m\n",
       "\u001b[36m  julia> y === x\u001b[39m\n",
       "\u001b[36m  true\u001b[39m\n",
       "\n",
       "  See also: \u001b[36mround\u001b[39m, \u001b[36mtrunc\u001b[39m, \u001b[36moftype\u001b[39m, \u001b[36mreinterpret\u001b[39m."
      ]
     },
     "execution_count": 1,
     "metadata": {},
     "output_type": "execute_result"
    }
   ],
   "source": [
    "?convert"
   ]
  },
  {
   "cell_type": "markdown",
   "metadata": {},
   "source": [
    "#### 1.2 Assigning variables, checking and converting types\n",
    "Assign `365` to a variable named `days`. "
   ]
  },
  {
   "cell_type": "code",
   "execution_count": 2,
   "metadata": {},
   "outputs": [
    {
     "data": {
      "text/plain": [
       "365"
      ]
     },
     "execution_count": 2,
     "metadata": {},
     "output_type": "execute_result"
    }
   ],
   "source": [
    "days = 365"
   ]
  },
  {
   "cell_type": "markdown",
   "metadata": {},
   "source": [
    "Use the `convert` function to change the variable `days` from an integer to a float, and assign it to a new variable `days_float`. "
   ]
  },
  {
   "cell_type": "code",
   "execution_count": 3,
   "metadata": {},
   "outputs": [
    {
     "data": {
      "text/plain": [
       "365.0f0"
      ]
     },
     "execution_count": 3,
     "metadata": {},
     "output_type": "execute_result"
    }
   ],
   "source": [
    "days_float = convert(Float32, days)"
   ]
  },
  {
   "cell_type": "markdown",
   "metadata": {},
   "source": [
    "Check whether the types of `days` and `days_float` are the same."
   ]
  },
  {
   "cell_type": "code",
   "execution_count": 4,
   "metadata": {},
   "outputs": [
    {
     "data": {
      "text/plain": [
       "false"
      ]
     },
     "execution_count": 4,
     "metadata": {},
     "output_type": "execute_result"
    }
   ],
   "source": [
    "typeof(days) == typeof(days_float)"
   ]
  },
  {
   "cell_type": "markdown",
   "metadata": {},
   "source": [
    "#### 1.3 Working with arrays and tuples\n",
    "\n",
    "Define the array \n",
    "\n",
    "`square = [1, 2, 3]` \n",
    "\n",
    "and the tuple\n",
    "\n",
    "`round = (4,5,6)`"
   ]
  },
  {
   "cell_type": "code",
   "execution_count": 5,
   "metadata": {},
   "outputs": [],
   "source": [
    "square = [1,2,3]\n",
    "round = (4,5,6);"
   ]
  },
  {
   "cell_type": "markdown",
   "metadata": {},
   "source": [
    "Access the first element of the array and the tuple, and add them together. "
   ]
  },
  {
   "cell_type": "code",
   "execution_count": 6,
   "metadata": {},
   "outputs": [
    {
     "data": {
      "text/plain": [
       "5"
      ]
     },
     "execution_count": 6,
     "metadata": {},
     "output_type": "execute_result"
    }
   ],
   "source": [
    "square[1] + round[1]"
   ]
  },
  {
   "cell_type": "markdown",
   "metadata": {},
   "source": [
    "Change the first element of the array to be equal to the first element of the tuple."
   ]
  },
  {
   "cell_type": "code",
   "execution_count": 7,
   "metadata": {},
   "outputs": [
    {
     "data": {
      "text/plain": [
       "3-element Vector{Int64}:\n",
       " 4\n",
       " 2\n",
       " 3"
      ]
     },
     "execution_count": 7,
     "metadata": {},
     "output_type": "execute_result"
    }
   ],
   "source": [
    "square[1] = round[1]\n",
    "square"
   ]
  },
  {
   "cell_type": "markdown",
   "metadata": {},
   "source": [
    "Try to change the third element of the tuple to be equal to that of the array.\n",
    "\n",
    "Why will this not work?"
   ]
  },
  {
   "cell_type": "code",
   "execution_count": 8,
   "metadata": {},
   "outputs": [
    {
     "ename": "LoadError",
     "evalue": "UndefVarError: array not defined",
     "output_type": "error",
     "traceback": [
      "UndefVarError: array not defined",
      "",
      "Stacktrace:",
      " [1] top-level scope",
      "   @ In[8]:1",
      " [2] eval",
      "   @ ./boot.jl:373 [inlined]",
      " [3] include_string(mapexpr::typeof(REPL.softscope), mod::Module, code::String, filename::String)",
      "   @ Base ./loading.jl:1196"
     ]
    }
   ],
   "source": [
    "round[3] = array[3]\n",
    "# This will not work, because tuples are immutable"
   ]
  },
  {
   "cell_type": "markdown",
   "metadata": {},
   "source": [
    "#### 1.4 Dictionaries\n",
    "\n",
    "Create a dictionary which lists three of your favorite restaurants and their ranking (1, 2 or 3)."
   ]
  },
  {
   "cell_type": "code",
   "execution_count": 9,
   "metadata": {},
   "outputs": [
    {
     "data": {
      "text/plain": [
       "Dict{String, Int64} with 3 entries:\n",
       "  \"Mooyah\"   => 2\n",
       "  \"Ramenkid\" => 3\n",
       "  \"Chipotle\" => 1"
      ]
     },
     "execution_count": 9,
     "metadata": {},
     "output_type": "execute_result"
    }
   ],
   "source": [
    "res_dic = Dict(\"Chipotle\" => 1, \"Mooyah\" => 2, \"Ramenkid\" => 3)\n",
    "res_dic"
   ]
  },
  {
   "cell_type": "markdown",
   "metadata": {},
   "source": [
    "#### 1.5 Matrix (two-dimension arrays)\n",
    "Create the following matrix: $$B = \\begin{bmatrix} 1 & 2 & 1 \\\\ 3 & 0 & 1 \\\\ 0 & 2 & 4 \\end{bmatrix}$$"
   ]
  },
  {
   "cell_type": "code",
   "execution_count": 10,
   "metadata": {},
   "outputs": [
    {
     "data": {
      "text/plain": [
       "3×3 Matrix{Int64}:\n",
       " 1  2  1\n",
       " 3  0  1\n",
       " 0  2  4"
      ]
     },
     "execution_count": 10,
     "metadata": {},
     "output_type": "execute_result"
    }
   ],
   "source": [
    "B = [1 2 1; 3 0 1; 0 2 4]"
   ]
  },
  {
   "cell_type": "markdown",
   "metadata": {},
   "source": [
    "Change the first element in the first row of B into 5, and check if it is an even number. (Tip: Use \"a%b == c\", which means the remainder of a/b is c)"
   ]
  },
  {
   "cell_type": "code",
   "execution_count": 11,
   "metadata": {},
   "outputs": [
    {
     "data": {
      "text/plain": [
       "false"
      ]
     },
     "execution_count": 11,
     "metadata": {},
     "output_type": "execute_result"
    }
   ],
   "source": [
    "B[1,1] = 5\n",
    "B[1,1] % 2 == 0"
   ]
  },
  {
   "cell_type": "markdown",
   "metadata": {},
   "source": [
    "#### 1.6 Some basic math\n",
    "\n",
    "\n",
    "Check if 5 is an even number. (Tip: Use the modulo operation \"a%b == c\", which means the remainder of a/b is c)"
   ]
  },
  {
   "cell_type": "code",
   "execution_count": 12,
   "metadata": {},
   "outputs": [
    {
     "data": {
      "text/plain": [
       "false"
      ]
     },
     "execution_count": 12,
     "metadata": {},
     "output_type": "execute_result"
    }
   ],
   "source": [
    "5 % 2 == 0"
   ]
  },
  {
   "cell_type": "markdown",
   "metadata": {},
   "source": [
    "#### 1.7 For loops"
   ]
  },
  {
   "cell_type": "markdown",
   "metadata": {},
   "source": [
    "Write a for loop to print the integers from 1 to 5."
   ]
  },
  {
   "cell_type": "code",
   "execution_count": 13,
   "metadata": {},
   "outputs": [
    {
     "name": "stdout",
     "output_type": "stream",
     "text": [
      "1\n",
      "2\n",
      "3\n",
      "4\n",
      "5\n"
     ]
    }
   ],
   "source": [
    "for i in 1:5\n",
    "    println(i)\n",
    "end"
   ]
  },
  {
   "cell_type": "markdown",
   "metadata": {},
   "source": [
    "Now write a for loop to go through every element in the above matrix, check if it is odd. If it is, then add 1 to that element. And print your matrix. "
   ]
  },
  {
   "cell_type": "code",
   "execution_count": 14,
   "metadata": {},
   "outputs": [
    {
     "data": {
      "text/plain": [
       "3×3 Matrix{Int64}:\n",
       " 6  2  2\n",
       " 4  0  2\n",
       " 0  2  4"
      ]
     },
     "execution_count": 14,
     "metadata": {},
     "output_type": "execute_result"
    }
   ],
   "source": [
    "for i in 1:3\n",
    "    for j in 1:3\n",
    "        if B[i,j] % 2 != 0\n",
    "            B[i,j] += 1\n",
    "        end\n",
    "    end\n",
    "end\n",
    "    \n",
    "B"
   ]
  },
  {
   "cell_type": "markdown",
   "metadata": {},
   "source": [
    "#### 1.8 Functions\n",
    "Write a function called `my_func` which takes a number as an input, and return an array containing integers from 1 to $n$. And try your function with input 5."
   ]
  },
  {
   "cell_type": "code",
   "execution_count": 15,
   "metadata": {},
   "outputs": [
    {
     "name": "stdout",
     "output_type": "stream",
     "text": [
      "[1, 2, 3, 4, 5]\n"
     ]
    }
   ],
   "source": [
    "function my_func(n)\n",
    "    return [i for i in 1:n]\n",
    "end\n",
    "    \n",
    "\n",
    "println(my_func(5))"
   ]
  },
  {
   "cell_type": "markdown",
   "metadata": {},
   "source": [
    "What happens to the output if you insted use the input 5.5 (which is a non-integer)?"
   ]
  },
  {
   "cell_type": "code",
   "execution_count": 16,
   "metadata": {},
   "outputs": [
    {
     "name": "stdout",
     "output_type": "stream",
     "text": [
      "[1.0, 2.0, 3.0, 4.0, 5.0]\n"
     ]
    }
   ],
   "source": [
    "println(my_func(5.5))\n",
    "\n",
    "#= \n",
    "The difference between the output of my_func(5) and my_func(5.5) is the type of elements in the array (int => float)\n",
    "\n",
    "=#"
   ]
  },
  {
   "cell_type": "markdown",
   "metadata": {},
   "source": [
    "Now slightly modify your function, and create a new function `odd` which outputs an array of all the odd numbers in [1,$n$]. Test your function with input 7."
   ]
  },
  {
   "cell_type": "code",
   "execution_count": 17,
   "metadata": {},
   "outputs": [
    {
     "data": {
      "text/plain": [
       "4-element Vector{Int64}:\n",
       " 1\n",
       " 3\n",
       " 5\n",
       " 7"
      ]
     },
     "execution_count": 17,
     "metadata": {},
     "output_type": "execute_result"
    }
   ],
   "source": [
    "function odd(n)\n",
    "    return [i for i in 1:n if i % 2 != 0]\n",
    "end\n",
    "\n",
    "odd(7)"
   ]
  },
  {
   "cell_type": "markdown",
   "metadata": {},
   "source": [
    "#### 1.9 JuMP Model"
   ]
  },
  {
   "cell_type": "markdown",
   "metadata": {
    "scrolled": true
   },
   "source": [
    "Consider the Top Brass model problem. How does the problem formulation and optimal solution change if you have to sell at produce at least 400 pre-ordered brass football trophies, and you only have 3000 board feet of wood? Implement this new Top Brass model below."
   ]
  },
  {
   "cell_type": "code",
   "execution_count": 1,
   "metadata": {},
   "outputs": [
    {
     "data": {
      "text/latex": [
       "$$ 12 f + 9 s $$"
      ],
      "text/plain": [
       "12 f + 9 s"
      ]
     },
     "execution_count": 1,
     "metadata": {},
     "output_type": "execute_result"
    }
   ],
   "source": [
    "using Pkg\n",
    "using Clp\n",
    "using JuMP\n",
    "using Ipopt\n",
    "using Cbc\n",
    "\n",
    "m = Model()\n",
    "\n",
    "@variable(m, 400 <= f <= 1000)           # football trophies\n",
    "@variable(m, 0 <= s <= 1500)           # soccer trophies\n",
    "@constraint(m, 4*f + 2*s <= 3000)        # total board feet of wood\n",
    "@constraint(m, f + s <= 1750)          # total number of plaques\n",
    "@objective(m, Max, 12*f + 9*s)          # maximize profit\n"
   ]
  },
  {
   "cell_type": "markdown",
   "metadata": {},
   "source": [
    "What is the optimal solution to this new instance of the Top Brass problem?"
   ]
  },
  {
   "cell_type": "code",
   "execution_count": 2,
   "metadata": {},
   "outputs": [
    {
     "name": "stdout",
     "output_type": "stream",
     "text": [
      "\n",
      "******************************************************************************\n",
      "This program contains Ipopt, a library for large-scale nonlinear optimization.\n",
      " Ipopt is released as open source code under the Eclipse Public License (EPL).\n",
      "         For more information visit https://github.com/coin-or/Ipopt\n",
      "******************************************************************************\n",
      "\n",
      "This is Ipopt version 3.14.4, running with linear solver MUMPS 5.4.1.\n",
      "\n",
      "Number of nonzeros in equality constraint Jacobian...:        0\n",
      "Number of nonzeros in inequality constraint Jacobian.:        4\n",
      "Number of nonzeros in Lagrangian Hessian.............:        0\n",
      "\n",
      "Total number of variables............................:        2\n",
      "                     variables with only lower bounds:        0\n",
      "                variables with lower and upper bounds:        2\n",
      "                     variables with only upper bounds:        0\n",
      "Total number of equality constraints.................:        0\n",
      "Total number of inequality constraints...............:        2\n",
      "        inequality constraints with only lower bounds:        0\n",
      "   inequality constraints with lower and upper bounds:        0\n",
      "        inequality constraints with only upper bounds:        2\n",
      "\n",
      "iter    objective    inf_pr   inf_du lg(mu)  ||d||  lg(rg) alpha_du alpha_pr  ls\n",
      "   0  4.8480900e+03 0.00e+00 1.67e+00  -1.0 0.00e+00    -  0.00e+00 0.00e+00   0\n",
      "   1  5.3963226e+03 0.00e+00 1.05e+01  -1.0 1.83e+02    -  8.01e-02 1.00e+00f  1\n",
      "   2  8.9684570e+03 0.00e+00 6.80e+00  -1.0 3.20e+03    -  5.85e-02 3.71e-01f  1\n",
      "   3  9.4515707e+03 0.00e+00 4.52e+00  -1.0 4.64e+02    -  3.29e-03 3.21e-01f  1\n",
      "   4  1.1083382e+04 0.00e+00 3.22e+00  -1.0 1.86e+03    -  2.29e-01 2.92e-01f  1\n",
      "   5  1.1099696e+04 0.00e+00 2.78e+00  -1.0 1.89e+03    -  3.84e-01 2.88e-03f  1\n",
      "   6  1.1099779e+04 0.00e+00 8.59e+00  -1.0 2.83e+00    -  9.92e-01 9.64e-03f  2\n",
      "   7  1.1099800e+04 0.00e+00 1.30e-04  -1.0 8.55e-03    -  9.98e-01 1.00e+00f  1\n",
      "   8  1.1099995e+04 0.00e+00 2.83e-08  -2.5 4.32e-02    -  1.00e+00 1.00e+00f  1\n",
      "   9  1.1100000e+04 0.00e+00 1.50e-09  -3.8 1.19e-03    -  1.00e+00 1.00e+00f  1\n",
      "iter    objective    inf_pr   inf_du lg(mu)  ||d||  lg(rg) alpha_du alpha_pr  ls\n",
      "  10  1.1100000e+04 0.00e+00 1.84e-11  -5.7 6.60e-05    -  1.00e+00 1.00e+00f  1\n",
      "  11  1.1100000e+04 0.00e+00 2.51e-14  -8.6 8.19e-07    -  1.00e+00 1.00e+00f  1\n",
      "\n",
      "Number of Iterations....: 11\n",
      "\n",
      "                                   (scaled)                 (unscaled)\n",
      "Objective...............:  -1.1100000158994986e+04    1.1100000158994986e+04\n",
      "Dual infeasibility......:   2.5059035596706026e-14    2.5059035596706026e-14\n",
      "Constraint violation....:   0.0000000000000000e+00    0.0000000000000000e+00\n",
      "Variable bound violation:   3.9995823613026005e-06    3.9995823613026005e-06\n",
      "Complementarity.........:   2.5067947717607054e-09    2.5067947717607054e-09\n",
      "Overall NLP error.......:   2.5067947717607054e-09    2.5067947717607054e-09\n",
      "\n",
      "\n",
      "Number of objective function evaluations             = 14\n",
      "Number of objective gradient evaluations             = 12\n",
      "Number of equality constraint evaluations            = 0\n",
      "Number of inequality constraint evaluations          = 14\n",
      "Number of equality constraint Jacobian evaluations   = 0\n",
      "Number of inequality constraint Jacobian evaluations = 1\n",
      "Number of Lagrangian Hessian evaluations             = 1\n",
      "Total seconds in IPOPT                               = 0.116\n",
      "\n",
      "EXIT: Optimal Solution Found.\n",
      "  2.067028 seconds (13.65 M allocations: 788.029 MiB, 8.15% gc time, 99.80% compilation time)\n",
      "The optimal number of footballs 399.99999600041764\n",
      "The optimal number of soccer 700.0000229988862\n",
      "The objecvtive value is 11100.000158994986\n"
     ]
    }
   ],
   "source": [
    "set_optimizer(m, with_optimizer(Ipopt.Optimizer))\n",
    "\n",
    "#solve\n",
    "@time optimize!(m)\n",
    "f_value = value(f)\n",
    "s_value = value(s)\n",
    "obj_value = objective_value(m)\n",
    "\n",
    "println(\"The optimal number of footballs \", f_value)\n",
    "println(\"The optimal number of soccer \", s_value)\n",
    "println(\"The objecvtive value is \", obj_value)"
   ]
  },
  {
   "cell_type": "code",
   "execution_count": null,
   "metadata": {},
   "outputs": [],
   "source": []
  }
 ],
 "metadata": {
  "@webio": {
   "lastCommId": null,
   "lastKernelId": null
  },
  "kernelspec": {
   "display_name": "Julia 1.7.1",
   "language": "julia",
   "name": "julia-1.7"
  },
  "language_info": {
   "file_extension": ".jl",
   "mimetype": "application/julia",
   "name": "julia",
   "version": "1.7.1"
  }
 },
 "nbformat": 4,
 "nbformat_minor": 2
}
