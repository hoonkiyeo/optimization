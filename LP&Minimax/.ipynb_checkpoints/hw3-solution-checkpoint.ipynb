{
 "cells": [
  {
   "cell_type": "markdown",
   "id": "1b6c6a1c",
   "metadata": {},
   "source": [
    "# 1\n",
    "## (a)\n",
    "$x_1\\leq1$  \n",
    "$-x_1\\leq1$  \n",
    "$x_2\\leq1$  \n",
    "$-x_2\\leq1$  \n",
    "$x_3\\leq1$  \n",
    "$-x_3\\leq1$  \n",
    "Thus,  \n",
    "$A=\n",
    "\\begin{bmatrix}\n",
    "1 & 0 & 0\\\\\n",
    "-1 & 0 & 0\\\\\n",
    "0 & 1 & 0\\\\\n",
    "0 & -1 & 0\\\\\n",
    "0 & 0 & 1\\\\\n",
    "0 & 0 & -1\\\\\n",
    "\\end{bmatrix}\n",
    "$  \n",
    "\n",
    "$b=\n",
    "\\begin{bmatrix}\n",
    "1 & 1 & 1 & 1 & 1 & 1\\\\\n",
    "\\end{bmatrix}^T$\n",
    "## (b)\n",
    "$x_1+x_2+x_3\\leq1$  \n",
    "$x_1+x_2-x_3\\leq1$  \n",
    "$x_1-x_2+x_3\\leq1$  \n",
    "$x_1-x_2-x_3\\leq1$  \n",
    "$-x_1+x_2+x_3\\leq1$  \n",
    "$-x_1+x_2-x_3\\leq1$  \n",
    "$-x_1-x_2+x_3\\leq1$  \n",
    "$-x_1-x_2-x_3\\leq1$  \n",
    "\n",
    "Thus,  \n",
    "$A=\n",
    "\\begin{bmatrix}\n",
    "1 & 1 & 1\\\\\n",
    "1 & 1 & -1\\\\\n",
    "1 & -1 & 1\\\\\n",
    "1 & -1 & -1\\\\\n",
    "-1 & 1 & 1\\\\\n",
    "-1 & 1 & -1\\\\\n",
    "-1 & -1 & 1\\\\\n",
    "-1 & -1 & -1\\\\\n",
    "\\end{bmatrix}\n",
    "$  \n",
    "\n",
    "$b=\n",
    "\\begin{bmatrix}\n",
    "1 & 1 & 1 & 1 & 1 & 1 &1 &1\\\\\n",
    "\\end{bmatrix}^T$"
   ]
  },
  {
   "cell_type": "markdown",
   "id": "4296ea0a",
   "metadata": {},
   "source": [
    "# 2\n",
    "## (a)\n",
    "\n",
    "Variables:  \n",
    "$x_i \\qquad i=1,2 \\qquad \\text{location of the center}$  \n",
    "$r \\qquad \\text{radius of the circle}$\n",
    "\n",
    "Parameters:  \n",
    "Hyperplanes\n",
    "\n",
    "$$\\begin{aligned}\n",
    "\\text{maximize}\\qquad& r \\qquad &&\\text{Maximize the radius}\\\\\n",
    "\\text{subject to:}\\qquad& -x_2 + (r + 50)\\sqrt{(-1)^2} \\le 0 \\\\\n",
    "& x_2 + (r + 50)\\sqrt{(1)^2} \\le 500\\\\\n",
    "& \\frac{2}{3}x_1+x_2 + (r + 50)\\sqrt{(\\frac{2}{3})^2 + 1^2} \\le 700\\\\\n",
    "& 3x_1-x_2 + (r + 50)\\sqrt{(3)^2 + (-1)^2} \\le 1500\\\\\n",
    "& -x_1 + (r + 50)\\sqrt{(-1)^2} \\le 0\\\\\n",
    "& x_1,x_2,r \\ge 0\n",
    "\\end{aligned}$$\n",
    "\n",
    "Note: We add one constraint for each hyperplane, and require the distance from the center to be equal to the radius $r$ + 50 feet (which is the minimium  distance from the wall of the museum to the edge of the available area."
   ]
  },
  {
   "cell_type": "code",
   "execution_count": 4,
   "id": "823893ec",
   "metadata": {},
   "outputs": [
    {
     "data": {
      "image/png": "[encoded data removed]",
      "text/plain": [
       "Figure(PyObject <Figure size 600x500 with 1 Axes>)"
      ]
     },
     "metadata": {},
     "output_type": "display_data"
    },
    {
     "name": "stderr",
     "output_type": "stream",
     "text": [
      "┌ Warning: `vendor()` is deprecated, use `BLAS.get_config()` and inspect the output instead\n",
      "│   caller = npyinitialize() at numpy.jl:67\n",
      "└ @ PyCall C:\\Users\\Yunghong Sun\\.julia\\packages\\PyCall\\L0fLP\\src\\numpy.jl:67\n"
     ]
    }
   ],
   "source": [
    "using PyPlot\n",
    "\n",
    "# Defining a function to plot the outline of the museum area\n",
    "function plot_site(mode)\n",
    "    plot([0,0], [0,500], \"b-\")\n",
    "    plot([0,500], [0,0], \"b-\")\n",
    "    plot([500,600], [0,300],\"b-\")\n",
    "    plot([300,600], [500,300],\"b-\")\n",
    "    plot([0,300], [500,500],\"b-\")\n",
    "    axis(\"image\")\n",
    "    axis([-.5,6.5,-.5,5.5]*100)\n",
    "    grid()\n",
    "end\n",
    "\n",
    "figure(figsize=(6,5))\n",
    "plot_site(1)"
   ]
  },
  {
   "cell_type": "markdown",
   "id": "d7698000",
   "metadata": {},
   "source": [
    "## (b)"
   ]
  },
  {
   "cell_type": "code",
   "execution_count": 8,
   "id": "c2c4ef70",
   "metadata": {},
   "outputs": [
    {
     "name": "stdout",
     "output_type": "stream",
     "text": [
      "radius of museum is: 194.02852679380186\n",
      "location of center is: [244.02852679380186, 244.02852679380186]\n",
      "\n",
      "Coin0506I Presolve 4 (-1) rows, 2 (-1) columns and 8 (-4) elements\n",
      "Clp0006I 0  Obj -0 Primal inf 0.099999 (1) Dual inf 0.40283601 (1)\n",
      "Clp0006I 2  Obj 194.02853\n",
      "Clp0000I Optimal - objective value 194.02853\n",
      "Coin0511I After Postsolve, objective 194.02853, infeasibilities - dual 0 (0), primal 0 (0)\n",
      "Clp0032I Optimal objective 194.0285268 - 2 iterations time 0.002, Presolve 0.00\n"
     ]
    }
   ],
   "source": [
    "using JuMP, Clp, LinearAlgebra\n",
    "\n",
    "A = [0 -1; 0 1; 2/3 1; 3 -1; -1 0]   # each row vector is the normal vector to the hyperplane (pointing outwards). \n",
    "b = [0; 5; 7; 15; 0 ]*100\n",
    "\n",
    "\n",
    "m = Model(with_optimizer(Clp.Optimizer))\n",
    "\n",
    "# Variables\n",
    "@variable(m, r >= 0) # Radius of the museum\n",
    "@variable(m, x[1:2]) #Center of the museum\n",
    "\n",
    "# Constraints\n",
    "for i = 1:size(A,1)\n",
    "    @constraint(m, A[i,:]'*x + (r+50)*norm(A[i,:]) <= b[i]) # do not surpass edges\n",
    "end\n",
    "\n",
    "# Objective\n",
    "@objective(m, Max, r) # maximize the area\n",
    "\n",
    "optimize!(m)\n",
    "\n",
    "# Obtain solution\n",
    "ropt = JuMP.value(r)\n",
    "xopt = JuMP.value.(x)\n",
    "\n",
    "println(\"radius of museum is: \", ropt)\n",
    "println(\"location of center is: \",xopt)\n",
    "println()"
   ]
  },
  {
   "cell_type": "markdown",
   "id": "6cc31306",
   "metadata": {},
   "source": [
    "## (c)"
   ]
  },
  {
   "cell_type": "code",
   "execution_count": 10,
   "id": "e129ebc3",
   "metadata": {},
   "outputs": [
    {
     "data": {
      "image/png": "[encoded data removed]",
      "text/plain": [
       "Figure(PyObject <Figure size 600x500 with 1 Axes>)"
      ]
     },
     "metadata": {},
     "output_type": "display_data"
    }
   ],
   "source": [
    "figure(figsize=(6,5))\n",
    "\n",
    "θ = range(0,stop=2*pi,length=100)\n",
    "plot(xopt[1] .+ ropt*cos.(θ), xopt[2] .+ ropt*sin.(θ), \"r-\")\n",
    "\n",
    "plot_site(1)"
   ]
  },
  {
   "cell_type": "markdown",
   "id": "f11402b0",
   "metadata": {},
   "source": [
    "# 3"
   ]
  },
  {
   "cell_type": "markdown",
   "id": "782f079f",
   "metadata": {},
   "source": [
    "## (a)\n",
    "### Mathematical Model\n",
    "\n",
    "Variables: $x_{i,j}$  \n",
    "$x_{i,j} = 1$ means person $i$ shows in time slot $j$.\n",
    "\n",
    "Sets and parameters:  \n",
    "$times_{i,j}$ availability of employee $i$ at time $j$  \n",
    "$\\mathcal{N}$ set of employee names  \n",
    "$\\mathcal{T}$ set of timeslots\n",
    "\n",
    "Objective function:  \n",
    "Note that this problem does not need any specific objective functions, since we are looking for a feasible solution instead of the optimal solution. \n",
    "\n",
    "$$\\begin{aligned}\n",
    "&\\text{minimize}\\quad&& \\sum_{i\\in \\mathcal{N},j\\in \\mathcal{T}} x_{i,j} \\\\\n",
    "&\\text{subject to:}\\quad&& \\sum_{i \\in \\mathcal{N}} x_{i,j}times_{i,j} \\ge 1 \\quad &&\\forall j \\ne 1,7  \\quad &&\\text{every time slot need a employee}\\\\\n",
    "&&& \\sum_{i \\in \\mathcal{N}} x_{i,7}times_{i,7} = 3 \\quad &&&&\\text{lunch time needs 3 person}\\\\\n",
    "&&& \\sum_{j \\in \\mathcal{T}} x_{i,j}times_{i,j} = 1 \\qquad &&\\forall i \\in \\mathcal{N} \\quad &&\\text{every person has one meeting}\\\\\n",
    "&&& \\sum_{i \\in \\mathcal{N}} x_{i,1}times_{i,1} = 2 \\quad &&&&\\text{first time slot needs 2 person}\\\\\n",
    "&&& x_{Mirjam,1} + x_{Matt,1} \\ge 1 \\quad &&&&\\text{Mirjam or Matt must be in first time slot}\\\\\n",
    "&&& x_{i,j} \\ge 0 \\quad &&\\forall i,j&&\n",
    "\\end{aligned}$$"
   ]
  },
  {
   "cell_type": "markdown",
   "id": "3fc5835a",
   "metadata": {},
   "source": [
    "## (b)"
   ]
  },
  {
   "cell_type": "code",
   "execution_count": 1,
   "id": "7392aa67",
   "metadata": {},
   "outputs": [
    {
     "name": "stdout",
     "output_type": "stream",
     "text": [
      "0\n",
      "5\n"
     ]
    }
   ],
   "source": [
    "#import Pkg\n",
    "#Pkg.add(\"NamedArrays\")\n",
    "\n",
    "using JuMP, NamedArrays, Clp\n",
    "\n",
    "availability =\n",
    "  [ 1 1 0 0 0 0 0 0 0 0 1 1 1\n",
    "    1 1 1 0 0 0 0 0 0 1 1 0 0\n",
    "    0 0 1 1 0 0 0 1 1 0 0 0 0\n",
    "    0 1 1 0 0 0 0 0 1 1 0 0 0\n",
    "    0 0 0 1 1 0 1 1 0 1 1 1 1\n",
    "    0 0 0 1 1 1 1 1 1 1 1 1 0\n",
    "    0 0 0 0 0 0 1 1 1 0 0 0 0\n",
    "    0 1 1 0 0 0 0 0 1 1 0 0 0\n",
    "    0 0 0 1 1 1 1 0 0 0 0 0 0\n",
    "    0 0 0 0 0 0 0 1 1 0 0 0 0\n",
    "    0 0 0 0 0 0 1 1 1 0 0 0 0\n",
    "    1 1 0 0 0 1 1 1 1 0 0 1 1\n",
    "    1 1 1 0 1 1 0 0 0 0 0 1 1\n",
    "    0 1 1 1 0 0 0 0 0 0 0 0 0\n",
    "    0 1 1 0 0 0 0 1 1 1 0 0 0\n",
    "    1 1 0 0 1 1 0 0 0 0 0 0 0 ]\n",
    "\n",
    "TIME = collect(1:13)\n",
    "NAMES = [:Mirjam,:Matt,:Manuel,:Luca,:Jule,:Michael,:Malte,:Chris,:Spyros,:Florian,:Josep,:Joel,:Tom,:Daniel,:Christian,:Anne ]\n",
    "TIMESTR = [\"10:00\",\"10:20\",\"10:40\",\"11:00\",\"11:20\",\"11:40\",\"lunch\",\"1:00\",\"1:20\",\"1:40\",\"2:00\",\"2:20\",\"2:40\"]\n",
    "\n",
    "# Creating a NamedArray of the availability data\n",
    "times = NamedArray( availability, (NAMES,TIME), (\"NAME\",\"TIME\"))\n",
    "\n",
    "# With a NamedArray, it is possible to use symbols as indices (although you don't have to use this)\n",
    "# For example, it is possible to write\n",
    "\n",
    "println(times[:Luca,1])\n",
    "\n",
    "# or\n",
    "\n",
    "println(sum(times[i,1] for i in NAMES))"
   ]
  },
  {
   "cell_type": "code",
   "execution_count": 7,
   "id": "54d13e4e",
   "metadata": {},
   "outputs": [
    {
     "name": "stdout",
     "output_type": "stream",
     "text": [
      "Coin0506I Presolve 27 (-5) rows, 73 (-135) columns and 146 (-23) elements\n",
      "Clp0006I 0  Obj 2 Primal inf 27.999974 (26)\n",
      "Clp0006I 31  Obj 16 Primal inf 6.099992 (8)\n",
      "Clp0006I 38  Obj 16\n",
      "Clp0000I Optimal - objective value 16\n",
      "Coin0511I After Postsolve, objective 16, infeasibilities - dual 0 (0), primal 0 (0)\n",
      "Clp0032I Optimal objective 16 - 38 iterations time 0.002, Presolve 0.00\n"
     ]
    }
   ],
   "source": [
    "# b) Solving the problem\n",
    "\n",
    "m = Model(with_optimizer(Clp.Optimizer))\n",
    "\n",
    "# @variable(m, x[NAMES,TIME] >= 0)\n",
    "# @constraint(m, flow1[j in [2:6; 8:13]], sum(x[i,j]*times[i,j] for i in NAMES) <= 1  )   # all time slots except lunch\n",
    "# @constraint(m, sum(x[i,7]*times[i,7] for i in NAMES) == 3  )                            # lunch time needs 3 people\n",
    "# @constraint(m, flow2[i in NAMES], sum(x[i,j]*times[i,j] for j in TIME) == 1 )           # every employee has one meeting\n",
    "# @constraint(m, sum(x[i,1]*times[i,1] for i in NAMES) == 2  )                            # first slot needs 2 people\n",
    "# @constraint(m, x[:Mirjam,1] + x[:Matt,1] >= 1  )                                        # Mirjam or Matt must be in first slot\n",
    "# @objective(m, Min, sum(x[i,j] for i in NAMES, j in TIME) )\n",
    "\n",
    "@variable(m, x[NAMES,TIME] >= 0)\n",
    "@constraint(m, flow1[j in TIME], sum(x[i,j]*times[i,j] for i in NAMES) >= 1  )   # all time slots except lunch\n",
    "@constraint(m, sum(x[i,7]*times[i,7] for i in NAMES) == 3  )                            # lunch time needs 3 people\n",
    "@constraint(m, flow2[i in NAMES], sum(x[i,j]*times[i,j] for j in TIME) == 1 )           # every employee has one meeting\n",
    "@constraint(m, sum(x[i,1]*times[i,1] for i in NAMES) == 2  )                            # first slot needs 2 people\n",
    "@constraint(m, x[:Mirjam,1] + x[:Matt,1] == 1  )                                        # Mirjam or Matt must be in first slot\n",
    "@objective(m, Min, sum(x[i,j] for i in NAMES, j in TIME) )\n",
    "\n",
    "optimize!(m)"
   ]
  },
  {
   "cell_type": "markdown",
   "id": "d2dbd48a",
   "metadata": {},
   "source": [
    "exists a feasible solution"
   ]
  },
  {
   "cell_type": "markdown",
   "id": "e1388dff",
   "metadata": {},
   "source": [
    "## (c)"
   ]
  },
  {
   "cell_type": "code",
   "execution_count": 18,
   "id": "63074199",
   "metadata": {},
   "outputs": [
    {
     "name": "stdout",
     "output_type": "stream",
     "text": [
      "INTERVIEW SCHEDULE:\n",
      "10:00 -- meet with Matt Tom \n",
      "10:20 -- meet with Chris \n",
      "10:40 -- meet with Manuel \n",
      "11:00 -- meet with Daniel \n",
      "11:20 -- meet with Anne \n",
      "11:40 -- meet with Spyros \n",
      "lunch -- meet with Malte Josep Joel \n",
      "1:00 -- meet with Christian \n",
      "1:20 -- meet with Florian \n",
      "1:40 -- meet with Luca \n",
      "2:00 -- meet with Michael \n",
      "2:20 -- meet with Jule \n",
      "2:40 -- meet with Mirjam \n"
     ]
    }
   ],
   "source": [
    "assignment = [ Int(JuMP.value(x[i,j])) for i in NAMES, j in TIME ]\n",
    "                                                \n",
    "println(\"INTERVIEW SCHEDULE:\")\n",
    "for (i,t) in enumerate(TIMESTR)\n",
    "    print(t, \" -- meet with \")\n",
    "    for j = findall(assignment[:,i] .!= 0)\n",
    "        print(NAMES[j],\" \")\n",
    "    end\n",
    "    println()\n",
    "end"
   ]
  },
  {
   "cell_type": "code",
   "execution_count": null,
   "id": "c59edf68",
   "metadata": {},
   "outputs": [],
   "source": []
  }
 ],
 "metadata": {
  "kernelspec": {
   "display_name": "Julia 1.7.1",
   "language": "julia",
   "name": "julia-1.7"
  },
  "language_info": {
   "file_extension": ".jl",
   "mimetype": "application/julia",
   "name": "julia",
   "version": "1.7.1"
  },
  "varInspector": {
   "cols": {
    "lenName": 16,
    "lenType": 16,
    "lenVar": 40
   },
   "kernels_config": {
    "python": {
     "delete_cmd_postfix": "",
     "delete_cmd_prefix": "del ",
     "library": "var_list.py",
     "varRefreshCmd": "print(var_dic_list())"
    },
    "r": {
     "delete_cmd_postfix": ") ",
     "delete_cmd_prefix": "rm(",
     "library": "var_list.r",
     "varRefreshCmd": "cat(var_dic_list()) "
    }
   },
   "types_to_exclude": [
    "module",
    "function",
    "builtin_function_or_method",
    "instance",
    "_Feature"
   ],
   "window_display": false
  }
 },
 "nbformat": 4,
 "nbformat_minor": 5
}
