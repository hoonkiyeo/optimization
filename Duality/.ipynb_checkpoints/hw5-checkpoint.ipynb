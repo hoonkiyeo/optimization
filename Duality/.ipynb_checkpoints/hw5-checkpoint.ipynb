{
 "cells": [
  {
   "cell_type": "code",
   "execution_count": 147,
   "id": "7cf6b2c1",
   "metadata": {},
   "outputs": [
    {
     "data": {
      "text/plain": [
       "78×9 Named Matrix{Float64}\n",
       "        foods ╲ nutrients │     Calories (1000)  …   Ascorbic Acid (mg)\n",
       "──────────────────────────┼────────────────────────────────────────────\n",
       "\"Wheat Flour (Enriched)\"  │                44.7  …                  0.0\n",
       "\"Macaroni\"                │                11.6                     0.0\n",
       "\"Wheat Cereal (Enriched)\" │                11.8                     0.0\n",
       "\"Corn Flakes\"             │                11.4                     0.0\n",
       "\"Corn Meal\"               │                36.0                     0.0\n",
       "\"Hominy Grits\"            │                28.6                     0.0\n",
       "\"Rice\"                    │                21.2                     0.0\n",
       "\"Rolled Oats\"             │                25.3                     0.0\n",
       "\"White Bread (Enriched)\"  │                15.0                     0.0\n",
       "\"Whole Wheat Bread\"       │                12.2                     0.0\n",
       "\"Rye Bread\"               │                12.4                     0.0\n",
       "⋮                                             ⋮  ⋱                    ⋮\n",
       "\"Lima Beans, Dried\"       │                17.4                     0.0\n",
       "\"Navy Beans, Dried\"       │                26.9                     0.0\n",
       "\"Coffee\"                  │                 0.0                     0.0\n",
       "\"Tea\"                     │                 0.0                     0.0\n",
       "\"Cocoa\"                   │                 8.7                     0.0\n",
       "\"Chocolate\"               │                 8.0                     0.0\n",
       "\"Sugar\"                   │                34.9                     0.0\n",
       "\"Corn Syrup\"              │                14.7                     0.0\n",
       "\"Molasses\"                │                 9.0                     0.0\n",
       "\"Strawberry Preserves\"    │                 6.4                     0.0\n",
       "\"Pill\"                    │                 0.0  …                  0.0"
      ]
     },
     "execution_count": 147,
     "metadata": {},
     "output_type": "execute_result"
    }
   ],
   "source": [
    "using Pkg\n",
    "using CSV\n",
    "using DataFrames\n",
    "using NamedArrays\n",
    "\n",
    "\n",
    "# import Stigler's data set\n",
    "raw = CSV.read(\"stigler.csv\", DataFrame);\n",
    "(m,n) = size(raw)\n",
    "\n",
    "n_nutrients = 2:n      # columns containing nutrients\n",
    "n_foods = 3:m          # rows containing food names\n",
    "\n",
    "# list of food\n",
    "foods = raw[2:end,1]\n",
    "# list of nutrients\n",
    "nutrients = [string(names(raw)[i]) for i=2:length(names(raw))]\n",
    "\n",
    "# minimum required amount of each nutrient\n",
    "lower = Dict( zip(nutrients,raw[1,n_nutrients]) )\n",
    "\n",
    "# data[f,i] is the amount of nutrient i contained in food f \n",
    "dataraw = Matrix(values(raw[2:end,2:end]))\n",
    "data = NamedArray(dataraw,(foods,nutrients),(\"foods\",\"nutrients\"))\n",
    "#@showall data"
   ]
  },
  {
   "cell_type": "code",
   "execution_count": 227,
   "id": "98b97d3c",
   "metadata": {},
   "outputs": [
    {
     "ename": "LoadError",
     "evalue": "MethodError: no method matching append!(::Array{Float64, 0}, ::ConstraintRef{Model, MathOptInterface.ConstraintIndex{MathOptInterface.ScalarAffineFunction{Float64}, MathOptInterface.GreaterThan{Float64}}, ScalarShape})\n\u001b[0mClosest candidates are:\n\u001b[0m  append!(\u001b[91m::DataStructures.MutableLinkedList\u001b[39m, ::Any...) at ~/.julia/packages/DataStructures/vSp4s/src/mutable_list.jl:160\n\u001b[0m  append!(\u001b[91m::SentinelArrays.ChainedVector{T, A} where A<:AbstractVector{T}\u001b[39m, ::Any) where T at ~/.julia/packages/SentinelArrays/pYV2X/src/chainedvector.jl:613\n\u001b[0m  append!(\u001b[91m::SentinelArrays.MissingVector\u001b[39m, ::Any) at ~/.julia/packages/SentinelArrays/pYV2X/src/missingvector.jl:107\n\u001b[0m  ...",
     "output_type": "error",
     "traceback": [
      "MethodError: no method matching append!(::Array{Float64, 0}, ::ConstraintRef{Model, MathOptInterface.ConstraintIndex{MathOptInterface.ScalarAffineFunction{Float64}, MathOptInterface.GreaterThan{Float64}}, ScalarShape})\n\u001b[0mClosest candidates are:\n\u001b[0m  append!(\u001b[91m::DataStructures.MutableLinkedList\u001b[39m, ::Any...) at ~/.julia/packages/DataStructures/vSp4s/src/mutable_list.jl:160\n\u001b[0m  append!(\u001b[91m::SentinelArrays.ChainedVector{T, A} where A<:AbstractVector{T}\u001b[39m, ::Any) where T at ~/.julia/packages/SentinelArrays/pYV2X/src/chainedvector.jl:613\n\u001b[0m  append!(\u001b[91m::SentinelArrays.MissingVector\u001b[39m, ::Any) at ~/.julia/packages/SentinelArrays/pYV2X/src/missingvector.jl:107\n\u001b[0m  ...",
      "",
      "Stacktrace:",
      " [1] top-level scope",
      "   @ ./In[227]:9",
      " [2] eval",
      "   @ ./boot.jl:373 [inlined]",
      " [3] include_string(mapexpr::typeof(REPL.softscope), mod::Module, code::String, filename::String)",
      "   @ Base ./loading.jl:1196"
     ]
    }
   ],
   "source": [
    "using JuMP,Clp\n",
    "m = Model(with_optimizer(Clp.Optimizer))\n",
    "\n",
    "\n",
    "@variable(m, x[foods] >= 0)\n",
    "for j in nutrients\n",
    "    c = @constraint(m, sum(data[i,j]*x[i] for i in foods) >= lower[j])\n",
    "end\n",
    "\n",
    "@objective(m, Min, sum(x))\n",
    "optimize!(m)\n",
    "\n",
    "# Check if the optimal solution is got\n",
    "status = termination_status(m)\n",
    "println(status)\n",
    "\n",
    "# Get the optimal diet \n",
    "println(\"The optimal (daily) diet is:\")\n",
    "xopt = JuMP.value.(x)\n",
    "for i in foods\n",
    "    if xopt[i] > 1e-6\n",
    "        println(i, \": \", xopt[i])\n",
    "    end\n",
    "end\n",
    "println()\n",
    "\n",
    "# Get the optimal annual cost\n",
    "println(\"The cost per year is: \\$\", 365*JuMP.objective_value(m))"
   ]
  },
  {
   "cell_type": "code",
   "execution_count": 221,
   "id": "867e337a",
   "metadata": {},
   "outputs": [
    {
     "ename": "LoadError",
     "evalue": "UndefVarError: c not defined",
     "output_type": "error",
     "traceback": [
      "UndefVarError: c not defined",
      "",
      "Stacktrace:",
      " [1] top-level scope",
      "   @ :0",
      " [2] eval",
      "   @ ./boot.jl:373 [inlined]",
      " [3] include_string(mapexpr::typeof(REPL.softscope), mod::Module, code::String, filename::String)",
      "   @ Base ./loading.jl:1196"
     ]
    }
   ],
   "source": [
    "c"
   ]
  },
  {
   "cell_type": "code",
   "execution_count": null,
   "id": "95eb0cd6",
   "metadata": {},
   "outputs": [],
   "source": []
  }
 ],
 "metadata": {
  "kernelspec": {
   "display_name": "Julia 1.7.2",
   "language": "julia",
   "name": "julia-1.7"
  },
  "language_info": {
   "file_extension": ".jl",
   "mimetype": "application/julia",
   "name": "julia",
   "version": "1.7.2"
  }
 },
 "nbformat": 4,
 "nbformat_minor": 5
}
