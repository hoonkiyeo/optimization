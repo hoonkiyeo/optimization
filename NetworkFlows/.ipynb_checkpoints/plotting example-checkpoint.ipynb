{
 "cells": [
  {
   "cell_type": "markdown",
   "metadata": {},
   "source": [
    "### Example for plotting\n",
    "\n",
    "If you have your model like this one, then you can use the following code to do the plotting:\n",
    "\n",
    "\\begin{align}\n",
    "\\underset{x_1,x_2}{\\text{maximize}} \\qquad& x_1 + x_2 \\\\\n",
    "\\text{subject to:}\\qquad& 2x_1 + x_2 \\le 4  && \\text{(constraint 1)}\\\\\n",
    "& x_1 + 2x_2 \\le 4 && \\text{(constraint 2)}\\\\\n",
    "& x_1\\ge 0,\\,\\,x_2\\ge 0\n",
    "\\end{align}"
   ]
  },
  {
   "cell_type": "code",
   "execution_count": null,
   "metadata": {},
   "outputs": [],
   "source": [
    "using Pkg\n",
    "Pkg.build(\"PyCall\")"
   ]
  },
  {
   "cell_type": "code",
   "execution_count": 12,
   "metadata": {
    "scrolled": true
   },
   "outputs": [
    {
     "name": "stderr",
     "output_type": "stream",
     "text": [
      "┌ Info: Precompiling PyPlot [d330b81b-6aea-500a-939a-2ce795aea3ee]\n",
      "└ @ Base loading.jl:1423\n",
      "ImportError: No module named site\n"
     ]
    },
    {
     "ename": "LoadError",
     "evalue": "Failed to precompile PyPlot [d330b81b-6aea-500a-939a-2ce795aea3ee] to /Users/kyle/.julia/compiled/v1.7/PyPlot/jl_QErfi2.",
     "output_type": "error",
     "traceback": [
      "Failed to precompile PyPlot [d330b81b-6aea-500a-939a-2ce795aea3ee] to /Users/kyle/.julia/compiled/v1.7/PyPlot/jl_QErfi2.",
      "",
      "Stacktrace:",
      " [1] error(s::String)",
      "   @ Base ./error.jl:33",
      " [2] compilecache(pkg::Base.PkgId, path::String, internal_stderr::IO, internal_stdout::IO, ignore_loaded_modules::Bool)",
      "   @ Base ./loading.jl:1466",
      " [3] compilecache(pkg::Base.PkgId, path::String)",
      "   @ Base ./loading.jl:1410",
      " [4] _require(pkg::Base.PkgId)",
      "   @ Base ./loading.jl:1120",
      " [5] require(uuidkey::Base.PkgId)",
      "   @ Base ./loading.jl:1013",
      " [6] require(into::Module, mod::Symbol)",
      "   @ Base ./loading.jl:997",
      " [7] eval",
      "   @ ./boot.jl:373 [inlined]",
      " [8] include_string(mapexpr::typeof(REPL.softscope), mod::Module, code::String, filename::String)",
      "   @ Base ./loading.jl:1196"
     ]
    }
   ],
   "source": [
    "# Plot support codes\n",
    "\n",
    "using PyPlot\n",
    "\n",
    "figure(figsize=(6, 4))\n",
    "x1 = range(0, stop=6, length=8) |> collect\n",
    "\n",
    "\n",
    "plot(x1, (4 .- 2x1) / 1)   # Your first constraint\n",
    "plot(x1, (4 .- x1) / 2)    # Your second constraint\n",
    "plot([0, 0], [0, 5])       # x_2 >= 0\n",
    "plot(x1, 0*x1)             # x_1 >= 0\n",
    "plot(x1,(8/3 .- x1) / 1, \"--\")     # The objective function\n",
    "plot(4/3, 4/3, \"k.\", markersize=10)    # The black dot indicite the optimal solution\n",
    "text(0.5, 0.5, \"(4/3,4/3)\")            # The position of the optimal solution\n",
    "fill([0, 0, 4/3, 2, 0],[0, 2, 4/3, 0,0], color=(.8, .8, .8))     # Mark the feasible region\n",
    "legend([\"constraint 1\", \"constraint 2\", \"nonnegative (x_1)\", \"nonnegative (x_2)\", \"objective\"])\n",
    "xlabel(L\"$x_1$\")\n",
    "ylabel(L\"$x_2$\")\n",
    "title(\"Primal problem\")\n",
    "grid()"
   ]
  },
  {
   "cell_type": "code",
   "execution_count": 7,
   "metadata": {},
   "outputs": [
    {
     "name": "stdout",
     "output_type": "stream",
     "text": [
      "\u001b[32m\u001b[1m      Status\u001b[22m\u001b[39m `~/.julia/environments/v1.7/Project.toml`\n",
      " \u001b[90m [336ed68f] \u001b[39mCSV v0.10.2\n",
      " \u001b[90m [9961bab8] \u001b[39mCbc v0.9.1\n",
      " \u001b[90m [e2554f3b] \u001b[39mClp v0.9.1\n",
      " \u001b[90m [a93c6f00] \u001b[39mDataFrames v1.3.2\n",
      " \u001b[90m [e2685f51] \u001b[39mECOS v0.14.1\n",
      " \u001b[90m [60bf3e95] \u001b[39mGLPK v0.15.3\n",
      " \u001b[90m [7073ff75] \u001b[39mIJulia v1.23.2\n",
      " \u001b[90m [c601a237] \u001b[39mInteract v0.10.4\n",
      " \u001b[90m [b6b21f68] \u001b[39mIpopt v0.9.1\n",
      " \u001b[90m [4076af6c] \u001b[39mJuMP v0.22.2\n",
      " \u001b[90m [86f7a689] \u001b[39mNamedArrays v0.9.6\n",
      " \u001b[90m [91a5bcdd] \u001b[39mPlots v1.25.8\n",
      " \u001b[90m [d330b81b] \u001b[39mPyPlot v2.10.0\n",
      " \u001b[90m [c946c3f1] \u001b[39mSCS v0.9.0\n",
      " \u001b[90m [37e2e46d] \u001b[39mLinearAlgebra\n"
     ]
    }
   ],
   "source": [
    "Pkg.status()"
   ]
  },
  {
   "cell_type": "code",
   "execution_count": 8,
   "metadata": {},
   "outputs": [
    {
     "name": "stderr",
     "output_type": "stream",
     "text": [
      "\u001b[32m\u001b[1m    Updating\u001b[22m\u001b[39m registry at `~/.julia/registries/General.toml`\n",
      "\u001b[32m\u001b[1m   Resolving\u001b[22m\u001b[39m package versions...\n",
      "\u001b[32m\u001b[1m    Updating\u001b[22m\u001b[39m `~/.julia/environments/v1.7/Project.toml`\n",
      " \u001b[90m [438e738f] \u001b[39m\u001b[92m+ PyCall v1.93.0\u001b[39m\n",
      "\u001b[32m\u001b[1m  No Changes\u001b[22m\u001b[39m to `~/.julia/environments/v1.7/Manifest.toml`\n"
     ]
    }
   ],
   "source": [
    "Pkg.add(\"PyCall\")"
   ]
  },
  {
   "cell_type": "code",
   "execution_count": 9,
   "metadata": {},
   "outputs": [
    {
     "name": "stdout",
     "output_type": "stream",
     "text": [
      "\u001b[32m\u001b[1m      Status\u001b[22m\u001b[39m `~/.julia/environments/v1.7/Project.toml`\n",
      " \u001b[90m [336ed68f] \u001b[39mCSV v0.10.2\n",
      " \u001b[90m [9961bab8] \u001b[39mCbc v0.9.1\n",
      " \u001b[90m [e2554f3b] \u001b[39mClp v0.9.1\n",
      " \u001b[90m [a93c6f00] \u001b[39mDataFrames v1.3.2\n",
      " \u001b[90m [e2685f51] \u001b[39mECOS v0.14.1\n",
      " \u001b[90m [60bf3e95] \u001b[39mGLPK v0.15.3\n",
      " \u001b[90m [7073ff75] \u001b[39mIJulia v1.23.2\n",
      " \u001b[90m [c601a237] \u001b[39mInteract v0.10.4\n",
      " \u001b[90m [b6b21f68] \u001b[39mIpopt v0.9.1\n",
      " \u001b[90m [4076af6c] \u001b[39mJuMP v0.22.2\n",
      " \u001b[90m [86f7a689] \u001b[39mNamedArrays v0.9.6\n",
      " \u001b[90m [91a5bcdd] \u001b[39mPlots v1.25.8\n",
      " \u001b[90m [438e738f] \u001b[39mPyCall v1.93.0\n",
      " \u001b[90m [d330b81b] \u001b[39mPyPlot v2.10.0\n",
      " \u001b[90m [c946c3f1] \u001b[39mSCS v0.9.0\n",
      " \u001b[90m [37e2e46d] \u001b[39mLinearAlgebra\n"
     ]
    }
   ],
   "source": [
    "Pkg.status()"
   ]
  },
  {
   "cell_type": "code",
   "execution_count": null,
   "metadata": {},
   "outputs": [],
   "source": []
  }
 ],
 "metadata": {
  "kernelspec": {
   "display_name": "Julia 1.7.2",
   "language": "julia",
   "name": "julia-1.7"
  },
  "language_info": {
   "file_extension": ".jl",
   "mimetype": "application/julia",
   "name": "julia",
   "version": "1.7.2"
  }
 },
 "nbformat": 4,
 "nbformat_minor": 2
}
