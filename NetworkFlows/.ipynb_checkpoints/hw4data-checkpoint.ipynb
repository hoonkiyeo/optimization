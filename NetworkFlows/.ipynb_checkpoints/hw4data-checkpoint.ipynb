{
 "cells": [
  {
   "cell_type": "markdown",
   "metadata": {},
   "source": [
    "## Data for stadium building problem"
   ]
  },
  {
   "cell_type": "code",
   "execution_count": 11,
   "metadata": {},
   "outputs": [],
   "source": [
    "using JuMP\n",
    "\n",
    "tasks = 1:18\n",
    "durations = [2 16 9 8 10 6 2 2 9 5 3 2 1 7 4 3 9 1]\n",
    "predecessors = ( [], [1], [2], [2], [3], [4,5], [4], [6], [4,6], [4], [6], [9], [7], [2], [4,14], [8,11,14], [12], [17] )\n",
    "pred_dict = Dict(zip(tasks,predecessors));   # dictionary mapping tasks --> predecessors.\n",
    "\n",
    "# additional columns of data (maximum reduction possible )\n",
    "max_reduction =  [0,  3,  1,  2,  2,  1, 1, 0,  2,  1,  1, 0, 0,  2,  2, 1,  3, 0]  # max reduction (in weeks)\n",
    "cost_reduction = [0, 30, 26, 12, 17, 15, 8, 0, 42, 21, 18, 0, 0, 22, 12, 6, 16, 0]  # cost of reduction ($1,000/week)\n",
    "bonus_amount = 30     # bonus for expediting the project ($1,000/week )\n",
    ";"
   ]
  },
  {
   "cell_type": "markdown",
   "metadata": {},
   "source": [
    "# a)"
   ]
  },
  {
   "cell_type": "markdown",
   "metadata": {},
   "source": [
    "# i)\n",
    "### Mathematical Model\n",
    "\n",
    "Decision variables:  \n",
    "Start time of the task $t_i$ for all tasks $i \\in \\mathcal{T}$, where $\\mathcal{T}$ is the set of all tasks.\n",
    "Note that we define a finish task, which defines the last \"task\" and has duration 0.\n",
    "\n",
    "Constraints:  \n",
    "Each task can only start when the previous task is done,  \n",
    "$$t_i \\geq t_j + d_j\\quad \\forall j \\in  \\mathcal{P}_i \\quad \\forall i \\in\\mathcal{T}$$\n",
    "where $\\mathcal{P}_i$ is the set of all tasks that must be finished before task $i$ can start (i.e., predecessor tasks) and $d_j$ is the duration of task $j$.\n",
    "\n",
    "The first task will start at time 0, i.e.,\n",
    "$$t_1 == 0$$\n",
    "\n",
    "Objective:  \n",
    "$$\\min_{t} t_x + d_x$$\n",
    "where $t_x$ and $d_x$ are the start time and duration of the finish task, respectively. \n"
   ]
  },
  {
   "cell_type": "markdown",
   "metadata": {},
   "source": [
    "# ii)"
   ]
  },
  {
   "cell_type": "code",
   "execution_count": 35,
   "metadata": {},
   "outputs": [
    {
     "name": "stdout",
     "output_type": "stream",
     "text": [
      "1-dimensional DenseAxisArray{Float64,1,...} with index sets:\n",
      "    Dimension 1, 1:18\n",
      "And data, a 18-element Vector{Float64}:\n",
      "  0.0\n",
      "  2.0\n",
      " 18.0\n",
      " 18.0\n",
      " 27.0\n",
      " 37.0\n",
      " 26.0\n",
      " 43.0\n",
      " 43.0\n",
      " 26.0\n",
      " 43.0\n",
      " 52.0\n",
      " 28.0\n",
      " 18.0\n",
      " 26.0\n",
      " 46.0\n",
      " 54.0\n",
      " 63.0\n",
      "The stadium will take 64.0 days to build.\n",
      "\n",
      "Coin0506I Presolve 0 (-23) rows, 0 (-18) columns and 0 (-45) elements\n",
      "Clp3002W Empty problem - 0 rows, 0 columns and 0 elements\n",
      "Clp0000I Optimal - objective value 64\n",
      "Coin0511I After Postsolve, objective 64, infeasibilities - dual 0 (0), primal 0 (0)\n",
      "Clp0032I Optimal objective 64 - 0 iterations time 0.002, Presolve 0.00\n"
     ]
    }
   ],
   "source": [
    "using JuMP,Clp\n",
    "m = Model(with_optimizer(Clp.Optimizer))\n",
    "\n",
    "@variable(m, tstart[tasks])\n",
    "\n",
    "@constraint(m, tstart[:1] == 0) #The firsst task starts at time 0\n",
    "\n",
    "for i in tasks\n",
    "    for j in pred_dict[i]\n",
    "        @constraint(m, tstart[i] >= tstart[j] + durations[j])\n",
    "    end\n",
    "end\n",
    "\n",
    "@objective(m, Min, tstart[:18] + durations[:18])\n",
    "\n",
    "optimize!(m)\n",
    "println(value.(tstart))\n",
    "println(\"The stadium will take \", objective_value(m), \" days to build.\")\n",
    "println()"
   ]
  },
  {
   "cell_type": "markdown",
   "metadata": {},
   "source": [
    "# b)"
   ]
  },
  {
   "cell_type": "markdown",
   "metadata": {},
   "source": [
    "## i)"
   ]
  },
  {
   "cell_type": "code",
   "execution_count": null,
   "metadata": {},
   "outputs": [],
   "source": []
  },
  {
   "cell_type": "markdown",
   "metadata": {},
   "source": [
    "## Data for car rental problem"
   ]
  },
  {
   "cell_type": "code",
   "execution_count": null,
   "metadata": {},
   "outputs": [],
   "source": [
    "position = [0 0; 20 20; 18 10; 30 12; 35 0; 33 25; 5 27; 5 10; 11 0; 2 15]\n",
    "present = [8; 13; 4; 8; 12; 2; 14; 11; 15; 7]\n",
    "required = [10; 6; 8; 11; 9; 7; 15; 7; 9; 12]\n",
    ";"
   ]
  },
  {
   "cell_type": "code",
   "execution_count": 10,
   "metadata": {},
   "outputs": [
    {
     "ename": "LoadError",
     "evalue": "cannot define function distance; it already has a value",
     "output_type": "error",
     "traceback": [
      "cannot define function distance; it already has a value",
      "",
      "Stacktrace:",
      " [1] top-level scope",
      "   @ none:0",
      " [2] top-level scope",
      "   @ In[10]:10",
      " [3] eval",
      "   @ ./boot.jl:373 [inlined]",
      " [4] include_string(mapexpr::typeof(REPL.softscope), mod::Module, code::String, filename::String)",
      "   @ Base ./loading.jl:1196"
     ]
    }
   ],
   "source": [
    "demand = [10   6   8  11   9   7  15   7   9  12]';\n",
    "stock  = [ 8  13   4   8  12   2  14  11  15   7]';\n",
    "cost   = 0.50;\n",
    "\n",
    "xcord  = [ 0  20  18  30  35  33   5   5  11   2]';\n",
    "ycord  = [ 0  20  10  12   0  25  27  10   0  15]';\n",
    "n      = length(xcord);\n",
    "\n",
    "distance = zeros(n,n);\n",
    "for i=1:n\n",
    "    for j=1:n\n",
    "        distance(i,j) = 1.3*sqrt( (xcord(i) - xcord(j))^2 + (ycord(i) - ycord(j))^2);\n",
    "    end\n",
    "end\n",
    "\n",
    "idx_excess = find(stock-demand > 0);\n",
    "n_excess   = length(idx_excess);\n",
    "\n",
    "idx_need   = find(stock-demand < 0);\n",
    "n_need     = length(idx_need);\n",
    "\n",
    "move = tom('move',n_excess,n_need,'int');\n",
    "\n",
    "% Bounds\n",
    "bnds = {0 <= move};\n",
    "\n",
    "% Excess constraint\n",
    "con1 = {sum(move,2) == stock(idx_excess) - demand(idx_excess)};\n",
    "\n",
    "% Need constraint\n",
    "con2 = {sum(move,1)' == demand(idx_need) - stock(idx_need)};\n",
    "\n",
    "% Objective\n",
    "objective = sum(sum(move.*cost.*distance(idx_excess,idx_need)));\n",
    "\n",
    "constraints = {bnds, con1, con2};\n",
    "options = struct;\n",
    "options.solver = 'cplex';\n",
    "options.name   = 'Car Rental';\n",
    "sol = ezsolve(objective,constraints,[],options);\n",
    "\n",
    "PriLev = 1;\n",
    "if PriLev > 0\n",
    "    temp = sol.move;\n",
    "    disp('THE SENDING OF CARS')\n",
    "    for i = 1:n_excess,       % scan all positions, disp interpretation\n",
    "        disp(['agency ' num2str(idx_excess(i)) ' sends: ' ])\n",
    "        for j = 1:n_need,\n",
    "            if temp(i,j) ~= 0\n",
    "                disp(['   ' num2str(temp(i,j)) ' car(s) to agency ' ...\n",
    "                    num2str(idx_need(j))])\n",
    "            end\n",
    "        end\n",
    "        disp(' ')\n",
    "    end\n",
    "\n",
    "    disp('THE GETTING OF CARS')\n",
    "    for j = 1:n_need,\n",
    "        disp(['agency ' num2str(idx_need(j)) ' gets: ' ])\n",
    "        for i = 1:n_excess,       % scan all positions, disp interpretation\n",
    "            if temp(i,j) ~= 0\n",
    "                disp(['   ' num2str(temp(i,j)) ' car(s) from agency ' ...\n",
    "                    num2str(idx_excess(i))])\n",
    "            end\n",
    "        end\n",
    "        disp(' ')\n",
    "    end\n",
    "end\n"
   ]
  },
  {
   "cell_type": "markdown",
   "metadata": {},
   "source": [
    "## The chess problem"
   ]
  },
  {
   "cell_type": "markdown",
   "metadata": {},
   "source": [
    "### i)"
   ]
  },
  {
   "cell_type": "code",
   "execution_count": 2,
   "metadata": {},
   "outputs": [
    {
     "data": {
      "text/latex": [
       "$$ \\begin{aligned}\n",
       "\\max\\quad & 8 l + 5 s\\\\\n",
       "\\text{Subject to} \\quad & 2 l + 3 s \\leq 160.0\\\\\n",
       " & 4 l + s \\leq 200.0\\\\\n",
       " & l \\geq 0.0\\\\\n",
       " & s \\geq 0.0\\\\\n",
       "\\end{aligned} $$"
      ]
     },
     "metadata": {},
     "output_type": "display_data"
    },
    {
     "name": "stdout",
     "output_type": "stream",
     "text": [
      "Termination status: OPTIMAL\n",
      "[44.00000000000001, 23.999999999999993]\n",
      "Coin0506I Presolve 2 (0) rows, 2 (0) columns and 4 (0) elements\n",
      "Clp0006I 0  Obj 0 Dual inf 13 (2)\n",
      "Clp0006I 2  Obj 472\n",
      "Clp0000I Optimal - objective value 472\n",
      "Clp0032I Optimal objective 472 - 2 iterations time 0.002\n"
     ]
    }
   ],
   "source": [
    "using Pkg\n",
    "using JuMP, Clp\n",
    "\n",
    "m3 = Model()\n",
    "set_optimizer(m3, with_optimizer(Clp.Optimizer))\n",
    "\n",
    "#decision variables\n",
    "@variable(m3, l >= 0)\n",
    "@variable(m3, s >= 0)\n",
    "\n",
    "# constraints\n",
    "@constraint(m3, 2*l+3*s <= 160)\n",
    "@constraint(m3, 4*l+s <= 200)\n",
    "\n",
    "#objective\n",
    "@objective(m3, Max, 8*l + 5*s)\n",
    "\n",
    "\n",
    "print(m3)\n",
    "optimize!(m3)\n",
    "println(\"Termination status: \", termination_status(m3))\n",
    "\n",
    "\n",
    "l_value = value(l)\n",
    "s_value = value(s)\n",
    "\n",
    "println([l_value, s_value])\n"
   ]
  },
  {
   "cell_type": "code",
   "execution_count": 5,
   "metadata": {},
   "outputs": [],
   "source": [
    "# using PyPlot\n",
    "\n",
    "# figure(figsize=(6, 4))\n",
    "# l = range(0, stop=6, length=8) |> collect\n",
    "\n",
    "\n",
    "# plot(l, (160 .- 2*l) / 3)   # first constraint\n",
    "# plot(l, (200 .- 4*l) / 1)    # second constraint\n",
    "# plot(l, 0*l) # l >= 0\n",
    "# plot()\n",
    "\n",
    "\n",
    "# legend([\"constraint 1\", \"constraint 2\", \"nonnegative (l)\", \"nonnegative (s)\", \"objective\"])\n",
    "# xlabel(L\"$l$\")\n",
    "# ylabel(L\"$s$\")\n",
    "# title(\"Primal problem\")\n",
    "# grid()"
   ]
  },
  {
   "cell_type": "markdown",
   "metadata": {},
   "source": [
    "ii)"
   ]
  },
  {
   "cell_type": "code",
   "execution_count": 6,
   "metadata": {},
   "outputs": [
    {
     "data": {
      "text/plain": [
       "A JuMP Model\n",
       "Minimization problem with:\n",
       "Variables: 2\n",
       "Objective function type: AffExpr\n",
       "`AffExpr`-in-`MathOptInterface.GreaterThan{Float64}`: 2 constraints\n",
       "`VariableRef`-in-`MathOptInterface.GreaterThan{Float64}`: 2 constraints\n",
       "Model mode: AUTOMATIC\n",
       "CachingOptimizer state: ATTACHED_OPTIMIZER\n",
       "Solver name: Clp\n",
       "Names registered in the model: λ"
      ]
     },
     "metadata": {},
     "output_type": "display_data"
    },
    {
     "name": "stdout",
     "output_type": "stream",
     "text": [
      "OPTIMAL\n",
      "dual variables are: [1.1999999999999997, 1.4000000000000001]\n",
      "Optimal objective is: 472.0\n",
      "Coin0506I Presolve 2 (0) rows, 2 (0) columns and 4 (0) elements\n",
      "Clp0006I 0  Obj 0 Primal inf 3.6666665 (2)\n",
      "Clp0006I 2  Obj 472\n",
      "Clp0000I Optimal - objective value 472\n",
      "Clp0032I Optimal objective 472 - 2 iterations time 0.002\n"
     ]
    }
   ],
   "source": [
    "using JuMP, Clp\n",
    "\n",
    "m_dual = Model(with_optimizer(Clp.Optimizer))\n",
    "@variable(m_dual, λ[1:2] >= 0)\n",
    "@constraint(m_dual, 2λ[1] + 4λ[2] >= 8)\n",
    "@constraint(m_dual, 3λ[1] + λ[2]  >= 5)\n",
    "@objective(m_dual, Min, 160λ[1] + 200λ[2])\n",
    "\n",
    "optimize!(m_dual)\n",
    "\n",
    "display(m_dual)\n",
    "\n",
    "println(termination_status(m_dual))\n",
    "println(\"dual variables are: \", value.(λ))\n",
    "println(\"Optimal objective is: \", objective_value(m))\n",
    "\n"
   ]
  }
 ],
 "metadata": {
  "@webio": {
   "lastCommId": null,
   "lastKernelId": null
  },
  "kernelspec": {
   "display_name": "Julia 1.7.2",
   "language": "julia",
   "name": "julia-1.7"
  },
  "language_info": {
   "file_extension": ".jl",
   "mimetype": "application/julia",
   "name": "julia",
   "version": "1.7.2"
  }
 },
 "nbformat": 4,
 "nbformat_minor": 1
}
