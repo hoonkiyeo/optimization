{
 "cells": [
  {
   "cell_type": "markdown",
   "metadata": {},
   "source": [
    "# Building a house (Harvard Business Review, 1963)\n",
    "\n",
    "Several tasks must be completed in order to build our house. Each task has a duration, tasks may be worked on simultaneously, but there is also a precedence relation. Some tasks can only be started once other tasks have been completed. The following table shows each task, it's duration, and the tasks that must be completed before it starts. How fast can the house be built?\n",
    "![alt text](https://hbr.org/resources/images/article_assets/hbr/6309/63508_A.gif)"
   ]
  },
  {
   "cell_type": "markdown",
   "metadata": {
    "collapsed": true
   },
   "source": [
    "## Problem Data"
   ]
  },
  {
   "cell_type": "code",
   "execution_count": null,
   "metadata": {},
   "outputs": [],
   "source": [
    "# this array stores the task names (:a, :b, ..., :x)\n",
    "tasks = []\n",
    "for i = 'a':'x'\n",
    "    push!(tasks, Symbol(i))    # string(sym) converts back to a string, i.e. string(:hello) returns \"hello\"\n",
    "end\n",
    "\n",
    "# this dictionary stores the project durations\n",
    "dur = [0, 4, 2, 4, 6, 1, 2, 3, 2, 4, 10, 3, 1, 2, 3, 2, 1, 1, 2, 3, 1, 2, 5, 0]\n",
    "duration = Dict(zip(tasks,dur))\n",
    "\n",
    "# this dictionary stores the projects that a given project depends on (ancestors)\n",
    "pre = ( [], [:a], [:b], [:c], [:d], [:c], [:f], [:f], [:d], [:d,:g], [:i,:j,:h], [:k],\n",
    "    [:l], [:l], [:l], [:e], [:p], [:c], [:o,:t], [:m,:n], [:t], [:q,:r], [:v], [:s,:u,:w])\n",
    "pred = Dict(zip(tasks,pre));"
   ]
  },
  {
   "cell_type": "code",
   "execution_count": null,
   "metadata": {},
   "outputs": [],
   "source": [
    "#pred      # The full dictionary relating tasks to predecessors\n",
    "\n",
    "#pred[:j]  # Predecessors to task :j\n"
   ]
  },
  {
   "cell_type": "markdown",
   "metadata": {},
   "source": [
    "## Mathematical Model\n",
    "\n",
    "Decision variables:  \n",
    "Start time of the task $t_i$ for all tasks $i \\in \\mathcal{T}$, where $\\mathcal{T}$ is the set of all tasks.\n",
    "Note that we define a finish task, which defines the last \"task\" and has duration 0.\n",
    "\n",
    "Constraints:  \n",
    "Each task can only start when the previous task is done,  \n",
    "$$t_i \\geq t_j + d_j\\quad \\forall j \\in  \\mathcal{P}_i \\quad \\forall i \\in\\mathcal{T}$$\n",
    "where $\\mathcal{P}_i$ is the set of all tasks that must be finished before task $i$ can start (i.e., predecessor tasks) and $d_j$ is the duration of task $j$.\n",
    "\n",
    "The first task will start at time 0, i.e.,\n",
    "$$t_a == 0$$\n",
    "\n",
    "Objective:  \n",
    "$$\\min_{t} t_x + d_x$$\n",
    "where $t_x$ and $d_x$ are the start time and duration of the finish task, respectively. \n"
   ]
  },
  {
   "cell_type": "markdown",
   "metadata": {},
   "source": [
    "## JuMP Implementation"
   ]
  },
  {
   "cell_type": "code",
   "execution_count": null,
   "metadata": {},
   "outputs": [],
   "source": [
    "using JuMP,Clp\n",
    "m = Model(with_optimizer(Clp.Optimizer))\n",
    "\n",
    "# Defining the starting time as our variable\n",
    "@variable(m, tstart[tasks])\n",
    "\n",
    "# We have to start at time zero\n",
    "@constraint(m, tstart[:a] == 0)\n",
    "\n",
    "# Implementation of constraints using for-loop\n",
    "for i in tasks\n",
    "    for j in pred[i]\n",
    "        @constraint(m, tstart[i] >= tstart[j] + duration[j])\n",
    "    end\n",
    "end\n",
    "\n",
    "# # One-line implementation of the constraints:\n",
    "# @constraint(m, link[i in tasks, j in pred[i]], tstart[i] >= tstart[j] + duration[j])\n",
    "\n",
    "@objective(m, Min, tstart[:x] + duration[:x])     # total duration is start time of last task + duration of last task.\n",
    "\n",
    "optimize!(m)\n",
    "println(value.(tstart))\n",
    "println(\"The house will take \", objective_value(m), \" days to build.\")\n",
    "println()"
   ]
  },
  {
   "cell_type": "code",
   "execution_count": null,
   "metadata": {},
   "outputs": [],
   "source": []
  }
 ],
 "metadata": {
  "@webio": {
   "lastCommId": null,
   "lastKernelId": null
  },
  "kernelspec": {
   "display_name": "Julia 1.7.2",
   "language": "julia",
   "name": "julia-1.7"
  },
  "language_info": {
   "file_extension": ".jl",
   "mimetype": "application/julia",
   "name": "julia",
   "version": "1.7.2"
  }
 },
 "nbformat": 4,
 "nbformat_minor": 1
}
