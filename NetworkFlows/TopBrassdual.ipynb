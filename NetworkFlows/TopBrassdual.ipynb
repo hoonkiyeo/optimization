{
 "cells": [
  {
   "cell_type": "markdown",
   "metadata": {},
   "source": [
    "# Top Brass Trophy problem (Ex. 5.1 in Rardin'98)\n",
    "\n",
    "Top Brass Trophy Company makes large championship trophies for youth athletic leagues. At the moment, they are planning production for fall sports: football and soccer. Each football trophy has a wood base, an engraved plaque, a large brass football on top, and returns $\\$ 12$ in profit. Soccer trophies are similar except that a brass soccer ball is on top, and the unit profit is only $\\$ 9$. Since the football has an asymmetric shape, its base requires 4 board feet of wood; the soccer base requires only 2 board feet. At the moment there are 1000 brass footballs in stock, 1500 soccer balls, 1750 plaques, and 4800 board feet of wood. What trophies should be produced from these supplies to maximize total profit assuming that all that are made can be sold?"
   ]
  },
  {
   "cell_type": "markdown",
   "metadata": {},
   "source": [
    "### Minimal solution"
   ]
  },
  {
   "cell_type": "code",
   "execution_count": 1,
   "metadata": {},
   "outputs": [
    {
     "data": {
      "text/plain": [
       "A JuMP Model\n",
       "Maximization problem with:\n",
       "Variables: 2\n",
       "Objective function type: AffExpr\n",
       "`AffExpr`-in-`MathOptInterface.LessThan{Float64}`: 4 constraints\n",
       "`VariableRef`-in-`MathOptInterface.GreaterThan{Float64}`: 2 constraints\n",
       "Model mode: AUTOMATIC\n",
       "CachingOptimizer state: ATTACHED_OPTIMIZER\n",
       "Solver name: Clp\n",
       "Names registered in the model: Cfballs, Cplaques, Csballs, Cwood, f, s"
      ]
     },
     "metadata": {},
     "output_type": "display_data"
    },
    {
     "name": "stdout",
     "output_type": "stream",
     "text": [
      "OPTIMAL\n",
      "Build 650.0 football trophies.\n",
      "Build 1100.0 soccer trophies.\n",
      "Total profit will be $17700.0\n",
      "Coin0506I Presolve 2 (-2) rows, 2 (0) columns and 4 (-2) elements\n",
      "Clp0006I 0  Obj -0 Dual inf 20.999998 (2)\n",
      "Clp0006I 2  Obj 17700\n",
      "Clp0000I Optimal - objective value 17700\n",
      "Coin0511I After Postsolve, objective 17700, infeasibilities - dual 0 (0), primal 0 (0)\n",
      "Clp0032I Optimal objective 17700 - 2 iterations time 0.002, Presolve 0.00\n"
     ]
    }
   ],
   "source": [
    "using JuMP, Clp\n",
    "\n",
    "m = Model(with_optimizer(Clp.Optimizer))\n",
    "@variable(m, f >= 0)                        # football trophies\n",
    "@variable(m, s >= 0)                        # soccer trophies\n",
    "@constraint(m, Cwood,   4f + 2s <= 4800)    # total board feet of wood\n",
    "@constraint(m, Cplaques,  f + s <= 1750)    # total number of plaques\n",
    "@constraint(m, Cfballs,       f <= 1000)    # total number of brass footballs\n",
    "@constraint(m, Csballs,       s <= 1500)    # total number of brass soccer balls\n",
    "@objective(m, Max, 12f + 9s)                # maximize profit\n",
    "\n",
    "optimize!(m)\n",
    "\n",
    "display(m)\n",
    "\n",
    "println(termination_status(m))\n",
    "println(\"Build \", value(f), \" football trophies.\")\n",
    "println(\"Build \", value(s), \" soccer trophies.\")\n",
    "println(\"Total profit will be \\$\", objective_value(m))"
   ]
  },
  {
   "cell_type": "markdown",
   "metadata": {},
   "source": [
    "### Dual variables"
   ]
  },
  {
   "cell_type": "code",
   "execution_count": 2,
   "metadata": {},
   "outputs": [
    {
     "name": "stdout",
     "output_type": "stream",
     "text": [
      "Shadow price for wood: 1.5\n",
      "Shadow price for plaques: 6.0\n",
      "Shadow price for brass footballs: -0.0\n",
      "Shadow price for brass soccer balls: -0.0\n",
      "\n"
     ]
    }
   ],
   "source": [
    "# Shadow price (change in objective from a change in the right hand side of the constraint)\n",
    "println(\"Shadow price for wood: \", shadow_price(Cwood))\n",
    "println(\"Shadow price for plaques: \", shadow_price(Cplaques))\n",
    "println(\"Shadow price for brass footballs: \", shadow_price(Cfballs))\n",
    "println(\"Shadow price for brass soccer balls: \", shadow_price(Csballs))\n",
    "\n",
    "println()\n",
    "\n",
    "# # Dual variables (as provided by the solver) \n",
    "# println(\"Dual variable for wood: \", dual(Cwood))\n",
    "# println(\"Dual variable for plaques: \", dual(Cplaques))\n",
    "# println(\"Dual variable for brass footballs: \", dual(Cfballs))\n",
    "# println(\"Dual variable for brass soccer balls: \", dual(Csballs))"
   ]
  },
  {
   "cell_type": "markdown",
   "metadata": {},
   "source": [
    "### Dual problem"
   ]
  },
  {
   "cell_type": "code",
   "execution_count": 3,
   "metadata": {},
   "outputs": [
    {
     "data": {
      "text/plain": [
       "A JuMP Model\n",
       "Minimization problem with:\n",
       "Variables: 4\n",
       "Objective function type: AffExpr\n",
       "`AffExpr`-in-`MathOptInterface.GreaterThan{Float64}`: 2 constraints\n",
       "`VariableRef`-in-`MathOptInterface.GreaterThan{Float64}`: 4 constraints\n",
       "Model mode: AUTOMATIC\n",
       "CachingOptimizer state: ATTACHED_OPTIMIZER\n",
       "Solver name: Clp\n",
       "Names registered in the model: λ"
      ]
     },
     "metadata": {},
     "output_type": "display_data"
    },
    {
     "name": "stdout",
     "output_type": "stream",
     "text": [
      "OPTIMAL\n",
      "dual variables are: [1.5, 6.0, 0.0, 0.0]\n",
      "Optimal objective is: 17700.0\n",
      "Coin0506I Presolve 2 (0) rows, 4 (0) columns and 6 (0) elements\n",
      "Clp0006I 0  Obj 0 Primal inf 7.4999998 (2)\n",
      "Clp0006I 3  Obj 17700\n",
      "Clp0000I Optimal - objective value 17700\n",
      "Clp0032I Optimal objective 17700 - 3 iterations time 0.002\n"
     ]
    }
   ],
   "source": [
    "using JuMP, Clp\n",
    "\n",
    "m_dual = Model(with_optimizer(Clp.Optimizer))\n",
    "@variable(m_dual, λ[1:4] >= 0)\n",
    "@constraint(m_dual, 4λ[1] + λ[2] + λ[3] >= 12)\n",
    "@constraint(m_dual, 2λ[1] + λ[2] + λ[4] >= 9)\n",
    "@objective(m_dual, Min, 4800λ[1] + 1750λ[2] + 1000λ[3] + 1500λ[4])\n",
    "\n",
    "optimize!(m_dual)\n",
    "\n",
    "display(m_dual)\n",
    "\n",
    "println(termination_status(m_dual))\n",
    "println(\"dual variables are: \", value.(λ))\n",
    "println(\"Optimal objective is: \", objective_value(m))\n",
    "\n"
   ]
  },
  {
   "cell_type": "code",
   "execution_count": null,
   "metadata": {},
   "outputs": [],
   "source": []
  }
 ],
 "metadata": {
  "kernelspec": {
   "display_name": "Julia 1.7.2",
   "language": "julia",
   "name": "julia-1.7"
  },
  "language_info": {
   "file_extension": ".jl",
   "mimetype": "application/julia",
   "name": "julia",
   "version": "1.7.2"
  }
 },
 "nbformat": 4,
 "nbformat_minor": 1
}
