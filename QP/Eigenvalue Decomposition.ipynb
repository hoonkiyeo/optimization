{
 "cells": [
  {
   "cell_type": "code",
   "execution_count": 1,
   "metadata": {},
   "outputs": [
    {
     "data": {
      "text/plain": [
       "3×3 Matrix{Float64}:\n",
       "  7.0          2.0  -1.77636e-15\n",
       "  2.0          6.0   2.0\n",
       " -1.77636e-15  2.0   5.0"
      ]
     },
     "execution_count": 1,
     "metadata": {},
     "output_type": "execute_result"
    }
   ],
   "source": [
    "using LinearAlgebra\n",
    "\n",
    "# Defining the matrix Q\n",
    "Q = [7 2 0\n",
    "     2 6 2\n",
    "     0 2 5]\n",
    "\n",
    "# Eigenvalue decomposition of Q\n",
    "F = eigen(Q)\n",
    "# F.values is a vector of eigenvalues\n",
    "# F.vectors is a matrix where the columns are the eigenvectors\n",
    "\n",
    "# Defining matrices\n",
    "Lambda = diagm(F.values)\n",
    "U = F.vectors\n",
    "\n",
    "# Double check that Q = U*Lambda*U^T\n",
    "Q_check = U*Lambda*U'"
   ]
  },
  {
   "cell_type": "code",
   "execution_count": 2,
   "metadata": {},
   "outputs": [
    {
     "data": {
      "text/plain": [
       "3×3 Matrix{Float64}:\n",
       "  2.0   4.0  -3.0\n",
       "  4.0   2.0  -3.0\n",
       " -3.0  -3.0   9.0"
      ]
     },
     "execution_count": 2,
     "metadata": {},
     "output_type": "execute_result"
    }
   ],
   "source": [
    "using LinearAlgebra\n",
    "\n",
    "# Defining the matrix Q\n",
    "Q = [2 4 -3\n",
    "     4 2 -3\n",
    "    -3 -3 9]\n",
    "\n",
    "# Eigenvalue decomposition of Q\n",
    "F = eigen(Q)\n",
    "# F.values is a vector of eigenvalues\n",
    "# F.vectors is a matrix where the columns are the eigenvectors\n",
    "\n",
    "# Defining matrices\n",
    "Lambda = diagm(F.values)\n",
    "U = F.vectors\n",
    "\n",
    "# Double check that Q = U*Lambda*U^T\n",
    "Q_check = U*Lambda*U'"
   ]
  },
  {
   "cell_type": "code",
   "execution_count": 5,
   "metadata": {},
   "outputs": [
    {
     "data": {
      "text/plain": [
       "3×3 Matrix{Float64}:\n",
       "  0.707107  -0.57735  -0.408248\n",
       " -0.707107  -0.57735  -0.408248\n",
       "  0.0       -0.57735   0.816497"
      ]
     },
     "execution_count": 5,
     "metadata": {},
     "output_type": "execute_result"
    }
   ],
   "source": [
    "U"
   ]
  }
 ],
 "metadata": {
  "kernelspec": {
   "display_name": "Julia 1.7.2",
   "language": "julia",
   "name": "julia-1.7"
  },
  "language_info": {
   "file_extension": ".jl",
   "mimetype": "application/julia",
   "name": "julia",
   "version": "1.7.2"
  }
 },
 "nbformat": 4,
 "nbformat_minor": 2
}
